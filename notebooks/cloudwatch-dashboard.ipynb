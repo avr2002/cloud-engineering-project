{
 "cells": [
  {
   "cell_type": "code",
   "execution_count": 85,
   "metadata": {},
   "outputs": [],
   "source": [
    "import boto3\n",
    "import json\n",
    "import os\n",
    "from rich import print\n",
    "from mypy_boto3_cloudwatch import CloudWatchClient\n",
    "from mypy_boto3_cloudwatch.type_defs import GetDashboardOutputTypeDef\n",
    "\n",
    "\n",
    "DASHBOARD_NAME = \"FilesAPIDashboard\"\n",
    "\n",
    "cloudwatch_client: \"CloudWatchClient\" = boto3.client(\"cloudwatch\")"
   ]
  },
  {
   "cell_type": "markdown",
   "metadata": {},
   "source": [
    "## Dashboard"
   ]
  },
  {
   "cell_type": "code",
   "execution_count": 158,
   "metadata": {},
   "outputs": [],
   "source": [
    "# cloudwatch_client.get_dashboard(DashboardName=\"FilesAPIDashboard\")"
   ]
  },
  {
   "cell_type": "code",
   "execution_count": 159,
   "metadata": {},
   "outputs": [],
   "source": [
    "# response: \"GetDashboardOutputTypeDef\" = cloudwatch_client.get_dashboard(DashboardName=DASHBOARD_NAME)\n",
    "\n",
    "# dashboard_body: str | None = response.get(\"DashboardBody\")\n",
    "# dashboard_body: dict = json.loads(dashboard_body)\n",
    "# dashboard_body.keys()"
   ]
  },
  {
   "cell_type": "code",
   "execution_count": 160,
   "metadata": {},
   "outputs": [],
   "source": [
    "# from datetime import datetime, timezone\n",
    "\n",
    "# # \"2024-07-04T09:37:08.000Z\"\n",
    "# datetime.now(timezone.utc).isoformat(timespec=\"milliseconds\").replace(\"+00:00\", \"Z\")"
   ]
  },
  {
   "cell_type": "code",
   "execution_count": 139,
   "metadata": {},
   "outputs": [],
   "source": [
    "from pathlib import Path\n",
    "from datetime import datetime, timezone\n",
    "\n",
    "VERSION_TXT_PATH = Path(\"../version.txt\")\n",
    "\n",
    "\n",
    "def get_deployment_verison(verion_txt_path: Path) -> str:\n",
    "    \"\"\"Get the deployment version from version.txt\"\"\"\n",
    "    if not verion_txt_path.exists():\n",
    "        raise FileNotFoundError(f\"File not found: {verion_txt_path}\")\n",
    "\n",
    "    # read version.txt\n",
    "    with open(verion_txt_path, \"r\") as f:\n",
    "        version = f.read().strip()\n",
    "    return version\n",
    "\n",
    "\n",
    "def add_vertical_annotations_to_widgets(dashboard_body: dict, version_txt_path: Path, N: int) -> dict:\n",
    "    \"\"\"\n",
    "    Add a vertical annotation to all timeSeries widgets in the dashboard with the current deployment version.\n",
    "\n",
    "    Args:\n",
    "        :dashboard_body: dict: The dashboard body from CloudWatch\n",
    "        :version_txt_path: Path: The path to the version.txt file\n",
    "        :N: int: The number of deployment events to keep for the annotations\n",
    "    Returns:\n",
    "        :dict: The updated dashboard body\n",
    "    \"\"\"\n",
    "    # get deployment version\n",
    "    version = get_deployment_verison(version_txt_path)\n",
    "\n",
    "    # get current time in ISO format, \"2024-07-04T09:37:08.000Z\"\n",
    "    current_time = datetime.now(timezone.utc).isoformat(timespec=\"milliseconds\").replace(\"+00:00\", \"Z\")\n",
    "\n",
    "    for widget in dashboard_body.get(\"widgets\", []):\n",
    "        widget_properties: dict = widget.get(\"properties\") or dict()\n",
    "        if widget_properties.get(\"view\") == \"timeSeries\":\n",
    "            # get annotations\n",
    "            annotations: dict[str, list[dict]] = widget_properties.get(\"annotations\") or dict()\n",
    "\n",
    "            # add vertical annotation\n",
    "            vertical_annotations = annotations.get(\"vertical\") or list()\n",
    "\n",
    "            # only keep last n deployments annotations\n",
    "            vertical_annotations = vertical_annotations[-N:]\n",
    "            vertical_annotations.append({\"color\": \"#69ae34\", \"label\": f\"{version}\", \"value\": current_time})\n",
    "\n",
    "            # overwrite current annotations\n",
    "            annotations[\"vertical\"] = vertical_annotations\n",
    "            widget_properties[\"annotations\"] = annotations\n",
    "\n",
    "    return dashboard_body\n",
    "\n",
    "\n",
    "def reset_dashboard_widgets(dashboard_body: dict) -> dict:\n",
    "    \"\"\"\n",
    "    Reset the dashboard widgets by removing all vertical annotations.\n",
    "\n",
    "    Args:\n",
    "        :dashboard_body: dict: The dashboard body from CloudWatch\n",
    "    Returns:\n",
    "        :dict: The updated dashboard body\n",
    "    \"\"\"\n",
    "    for widget in dashboard_body.get(\"widgets\", []):\n",
    "        widget_properties: dict = widget.get(\"properties\") or dict()\n",
    "        if widget_properties.get(\"view\") == \"timeSeries\":\n",
    "            # get annotations\n",
    "            annotations: dict[str, list[dict]] = widget_properties.get(\"annotations\") or dict()\n",
    "            vertical_annotations = annotations.get(\"vertical\") or list()\n",
    "            if vertical_annotations:\n",
    "                annotations[\"vertical\"] = []  # remove vertical annotations\n",
    "\n",
    "            widget_properties[\"annotations\"] = annotations\n",
    "\n",
    "    return dashboard_body"
   ]
  },
  {
   "cell_type": "code",
   "execution_count": 140,
   "metadata": {},
   "outputs": [],
   "source": [
    "# dashboard_body"
   ]
  },
  {
   "cell_type": "code",
   "execution_count": 141,
   "metadata": {},
   "outputs": [],
   "source": [
    "# reset_dashboard_widgets(dashboard_body)"
   ]
  },
  {
   "cell_type": "code",
   "execution_count": 142,
   "metadata": {},
   "outputs": [],
   "source": [
    "def update_dashboard_widgets(\n",
    "    cloudwatch_client: \"CloudWatchClient\" = None,\n",
    "    dashboard_name: str = None,\n",
    "    version_txt_path: Path = None,\n",
    "    N: int = None,\n",
    "    reset: bool = False,\n",
    ") -> None:\n",
    "    \"\"\"\n",
    "    Update the dashboard widgets with vertical line for the deployment version.\n",
    "\n",
    "    args:\n",
    "        :cloudwatch_client: CloudWatchClient: The CloudWatch client\n",
    "        :dashboard_name: str: The name of the dashboard\n",
    "        :verion_txt_path: Path: The path to the version.txt file\n",
    "        :N: int: The number of deployment events to keep for the vertical annotations, default 10\n",
    "        :reset: bool: Reset the dashboard widgets, i.e. remove all vertical annotations; default False\n",
    "\n",
    "    returns: None\n",
    "    \"\"\"\n",
    "    version_txt_path = version_txt_path or VERSION_TXT_PATH\n",
    "    N = N or 10\n",
    "    dashboard_name = dashboard_name or os.environ[\"DASHBOARD_NAME\"]\n",
    "    cloudwatch_client = cloudwatch_client or boto3.client(\"cloudwatch\")\n",
    "    response: \"GetDashboardOutputTypeDef\" = cloudwatch_client.get_dashboard(DashboardName=dashboard_name)\n",
    "\n",
    "    dashboard_body: str | None = response.get(\"DashboardBody\")\n",
    "    dashboard_body: dict = json.loads(dashboard_body)\n",
    "\n",
    "    if reset:\n",
    "        # reset dashboard widgets\n",
    "        updated_dashboard_body = reset_dashboard_widgets(dashboard_body)\n",
    "\n",
    "    # update dashboard widgets\n",
    "    updated_dashboard_body = add_vertical_annotations_to_widgets(dashboard_body, version_txt_path, N=N)\n",
    "\n",
    "    # update the dashboard\n",
    "    cloudwatch_client.put_dashboard(\n",
    "        DashboardName=dashboard_name,\n",
    "        DashboardBody=json.dumps(updated_dashboard_body),\n",
    "    )"
   ]
  },
  {
   "cell_type": "code",
   "execution_count": 143,
   "metadata": {},
   "outputs": [],
   "source": [
    "DASHBOARD_NAME = \"FilesAPIDashboard\"\n",
    "VERSION_TXT_PATH = Path(\"../version.txt\")\n",
    "\n",
    "update_dashboard_widgets(dashboard_name=DASHBOARD_NAME, version_txt_path=VERSION_TXT_PATH, reset=True)"
   ]
  },
  {
   "cell_type": "markdown",
   "metadata": {},
   "source": [
    "## Alarms"
   ]
  },
  {
   "cell_type": "code",
   "execution_count": 152,
   "metadata": {},
   "outputs": [
    {
     "data": {
      "text/html": [
       "<pre style=\"white-space:pre;overflow-x:auto;line-height:normal;font-family:Menlo,'DejaVu Sans Mono',consolas,'Courier New',monospace\">Created SNS topic Response: <span style=\"font-weight: bold\">{</span><span style=\"color: #008000; text-decoration-color: #008000\">'TopicArn'</span>: <span style=\"color: #008000; text-decoration-color: #008000\">'arn:aws:sns:ap-south-1:730335491176:demo-topic'</span>, <span style=\"color: #008000; text-decoration-color: #008000\">'ResponseMetadata'</span>: \n",
       "<span style=\"font-weight: bold\">{</span><span style=\"color: #008000; text-decoration-color: #008000\">'RequestId'</span>: <span style=\"color: #008000; text-decoration-color: #008000\">'cf97e0f2-b70a-55b1-a58b-bfeed0830d2a'</span>, <span style=\"color: #008000; text-decoration-color: #008000\">'HTTPStatusCode'</span>: <span style=\"color: #008080; text-decoration-color: #008080; font-weight: bold\">200</span>, <span style=\"color: #008000; text-decoration-color: #008000\">'HTTPHeaders'</span>: <span style=\"font-weight: bold\">{</span><span style=\"color: #008000; text-decoration-color: #008000\">'x-amzn-requestid'</span>: \n",
       "<span style=\"color: #008000; text-decoration-color: #008000\">'cf97e0f2-b70a-55b1-a58b-bfeed0830d2a'</span>, <span style=\"color: #008000; text-decoration-color: #008000\">'date'</span>: <span style=\"color: #008000; text-decoration-color: #008000\">'Thu, 25 Jul 2024 14:46:33 GMT'</span>, <span style=\"color: #008000; text-decoration-color: #008000\">'content-type'</span>: <span style=\"color: #008000; text-decoration-color: #008000\">'text/xml'</span>, \n",
       "<span style=\"color: #008000; text-decoration-color: #008000\">'content-length'</span>: <span style=\"color: #008000; text-decoration-color: #008000\">'318'</span>, <span style=\"color: #008000; text-decoration-color: #008000\">'connection'</span>: <span style=\"color: #008000; text-decoration-color: #008000\">'keep-alive'</span><span style=\"font-weight: bold\">}</span>, <span style=\"color: #008000; text-decoration-color: #008000\">'RetryAttempts'</span>: <span style=\"color: #008080; text-decoration-color: #008080; font-weight: bold\">0</span><span style=\"font-weight: bold\">}}</span>\n",
       "</pre>\n"
      ],
      "text/plain": [
       "Created SNS topic Response: \u001b[1m{\u001b[0m\u001b[32m'TopicArn'\u001b[0m: \u001b[32m'arn:aws:sns:ap-south-1:730335491176:demo-topic'\u001b[0m, \u001b[32m'ResponseMetadata'\u001b[0m: \n",
       "\u001b[1m{\u001b[0m\u001b[32m'RequestId'\u001b[0m: \u001b[32m'cf97e0f2-b70a-55b1-a58b-bfeed0830d2a'\u001b[0m, \u001b[32m'HTTPStatusCode'\u001b[0m: \u001b[1;36m200\u001b[0m, \u001b[32m'HTTPHeaders'\u001b[0m: \u001b[1m{\u001b[0m\u001b[32m'x-amzn-requestid'\u001b[0m: \n",
       "\u001b[32m'cf97e0f2-b70a-55b1-a58b-bfeed0830d2a'\u001b[0m, \u001b[32m'date'\u001b[0m: \u001b[32m'Thu, 25 Jul 2024 14:46:33 GMT'\u001b[0m, \u001b[32m'content-type'\u001b[0m: \u001b[32m'text/xml'\u001b[0m, \n",
       "\u001b[32m'content-length'\u001b[0m: \u001b[32m'318'\u001b[0m, \u001b[32m'connection'\u001b[0m: \u001b[32m'keep-alive'\u001b[0m\u001b[1m}\u001b[0m, \u001b[32m'RetryAttempts'\u001b[0m: \u001b[1;36m0\u001b[0m\u001b[1m}\u001b[0m\u001b[1m}\u001b[0m\n"
      ]
     },
     "metadata": {},
     "output_type": "display_data"
    },
    {
     "data": {
      "text/html": [
       "<pre style=\"white-space:pre;overflow-x:auto;line-height:normal;font-family:Menlo,'DejaVu Sans Mono',consolas,'Courier New',monospace\">Email Subscription Response: <span style=\"font-weight: bold\">{</span><span style=\"color: #008000; text-decoration-color: #008000\">'SubscriptionArn'</span>: <span style=\"color: #008000; text-decoration-color: #008000\">'pending confirmation'</span>, <span style=\"color: #008000; text-decoration-color: #008000\">'ResponseMetadata'</span>: <span style=\"font-weight: bold\">{</span><span style=\"color: #008000; text-decoration-color: #008000\">'RequestId'</span>: \n",
       "<span style=\"color: #008000; text-decoration-color: #008000\">'4d3ece02-98a5-5189-a115-911eff2c1b35'</span>, <span style=\"color: #008000; text-decoration-color: #008000\">'HTTPStatusCode'</span>: <span style=\"color: #008080; text-decoration-color: #008080; font-weight: bold\">200</span>, <span style=\"color: #008000; text-decoration-color: #008000\">'HTTPHeaders'</span>: <span style=\"font-weight: bold\">{</span><span style=\"color: #008000; text-decoration-color: #008000\">'x-amzn-requestid'</span>: \n",
       "<span style=\"color: #008000; text-decoration-color: #008000\">'4d3ece02-98a5-5189-a115-911eff2c1b35'</span>, <span style=\"color: #008000; text-decoration-color: #008000\">'date'</span>: <span style=\"color: #008000; text-decoration-color: #008000\">'Thu, 25 Jul 2024 14:46:33 GMT'</span>, <span style=\"color: #008000; text-decoration-color: #008000\">'content-type'</span>: <span style=\"color: #008000; text-decoration-color: #008000\">'text/xml'</span>, \n",
       "<span style=\"color: #008000; text-decoration-color: #008000\">'content-length'</span>: <span style=\"color: #008000; text-decoration-color: #008000\">'298'</span>, <span style=\"color: #008000; text-decoration-color: #008000\">'connection'</span>: <span style=\"color: #008000; text-decoration-color: #008000\">'keep-alive'</span><span style=\"font-weight: bold\">}</span>, <span style=\"color: #008000; text-decoration-color: #008000\">'RetryAttempts'</span>: <span style=\"color: #008080; text-decoration-color: #008080; font-weight: bold\">0</span><span style=\"font-weight: bold\">}}</span>\n",
       "</pre>\n"
      ],
      "text/plain": [
       "Email Subscription Response: \u001b[1m{\u001b[0m\u001b[32m'SubscriptionArn'\u001b[0m: \u001b[32m'pending confirmation'\u001b[0m, \u001b[32m'ResponseMetadata'\u001b[0m: \u001b[1m{\u001b[0m\u001b[32m'RequestId'\u001b[0m: \n",
       "\u001b[32m'4d3ece02-98a5-5189-a115-911eff2c1b35'\u001b[0m, \u001b[32m'HTTPStatusCode'\u001b[0m: \u001b[1;36m200\u001b[0m, \u001b[32m'HTTPHeaders'\u001b[0m: \u001b[1m{\u001b[0m\u001b[32m'x-amzn-requestid'\u001b[0m: \n",
       "\u001b[32m'4d3ece02-98a5-5189-a115-911eff2c1b35'\u001b[0m, \u001b[32m'date'\u001b[0m: \u001b[32m'Thu, 25 Jul 2024 14:46:33 GMT'\u001b[0m, \u001b[32m'content-type'\u001b[0m: \u001b[32m'text/xml'\u001b[0m, \n",
       "\u001b[32m'content-length'\u001b[0m: \u001b[32m'298'\u001b[0m, \u001b[32m'connection'\u001b[0m: \u001b[32m'keep-alive'\u001b[0m\u001b[1m}\u001b[0m, \u001b[32m'RetryAttempts'\u001b[0m: \u001b[1;36m0\u001b[0m\u001b[1m}\u001b[0m\u001b[1m}\u001b[0m\n"
      ]
     },
     "metadata": {},
     "output_type": "display_data"
    },
    {
     "data": {
      "text/html": [
       "<pre style=\"white-space:pre;overflow-x:auto;line-height:normal;font-family:Menlo,'DejaVu Sans Mono',consolas,'Courier New',monospace\">Please confirm the subscription by clicking the link in the email sent to you.\n",
       "</pre>\n"
      ],
      "text/plain": [
       "Please confirm the subscription by clicking the link in the email sent to you.\n"
      ]
     },
     "metadata": {},
     "output_type": "display_data"
    }
   ],
   "source": [
    "import boto3\n",
    "from mypy_boto3_sns import SNSClient\n",
    "from mypy_boto3_sns.type_defs import CreateTopicResponseTypeDef\n",
    "\n",
    "# https://boto3.amazonaws.com/v1/documentation/api/latest/reference/services/sns.html\n",
    "# https://boto3.amazonaws.com/v1/documentation/api/latest/reference/services/sns/client/create_topic.html\n",
    "def create_sns_topic(topic_name: str, sns_client: \"SNSClient\" = None) -> str:\n",
    "    \"\"\"\n",
    "    Create a new SNS topic or get the TopicARN if it already exists.\n",
    "\n",
    "    Args:\n",
    "        :sns_client: SNSClient: The SNS client\n",
    "        :topic_name: str: The name of the topic\n",
    "\n",
    "    Returns:\n",
    "        :str: The ARN of the new/existing topic\n",
    "    \"\"\"\n",
    "    sns_client = sns_client or boto3.client(\"sns\")\n",
    "    response: \"CreateTopicResponseTypeDef\" = sns_client.create_topic(Name=topic_name)\n",
    "    print(f\"Created SNS topic Response: {response}\")\n",
    "    topic_arn = response[\"TopicArn\"]\n",
    "    return topic_arn\n",
    "\n",
    "\n",
    "# https://boto3.amazonaws.com/v1/documentation/api/latest/reference/services/sns/client/subscribe.html\n",
    "def subscribe_email_to_topic(topic_name: str, email: str, sns_client: \"SNSClient\" = None) -> None:\n",
    "    \"\"\"\n",
    "    Subscribe an email to an SNS topic.\n",
    "\n",
    "    Args:\n",
    "        :sns_client: SNSClient: The SNS client\n",
    "        :topic_name: str: The name of the SNS topic to subscribe to. If the topic does not exist, it will be created.\n",
    "        :email: str: The email to subscribe\n",
    "\n",
    "    Returns:\n",
    "        :None:\n",
    "    \"\"\"\n",
    "    sns_client = sns_client or boto3.client(\"sns\")\n",
    "    topic_arn = create_sns_topic(topic_name)\n",
    "    response = sns_client.subscribe(TopicArn=topic_arn, Protocol=\"email\", Endpoint=email)\n",
    "    print(f\"Email Subscription Response: {response}\")\n",
    "    print(\"Please confirm the subscription by clicking the link in the email sent to you.\")\n",
    "\n",
    "\n",
    "demo_topic_name = \"demo-topic\"\n",
    "subscribe_email_to_topic(topic_name=demo_topic_name, email=\"avr13405@gmail.com\")"
   ]
  },
  {
   "cell_type": "code",
   "execution_count": 156,
   "metadata": {},
   "outputs": [],
   "source": [
    "import boto3\n",
    "from mypy_boto3_cloudwatch import CloudWatchClient\n",
    "\n",
    "# https://boto3.amazonaws.com/v1/documentation/api/latest/reference/services/cloudwatch.html\n",
    "\n",
    "# https://boto3.amazonaws.com/v1/documentation/api/latest/reference/services/cloudwatch/client/put_metric_alarm.html\n",
    "\n",
    "def create_latency_alarm(\n",
    "    alarm_name: str,\n",
    "    sns_topic_arn: str = None,\n",
    "    cloudwatch_client: \"CloudWatchClient\" = None,\n",
    ") -> None:\n",
    "    \"\"\"\n",
    "    Create a CloudWatch alarm for the Files API latency metric.\n",
    "\n",
    "    Args:\n",
    "        :alarm_name: str: The name of the alarm\n",
    "        :sns_topic_arn: str: The SNS topic ARN to send the alarm notification\n",
    "        :cloudwatch_client: CloudWatchClient: The CloudWatch client\n",
    "    \"\"\"\n",
    "    alarm_config = {\n",
    "        \"AlarmName\": alarm_name,\n",
    "        \"MetricName\": \"Latency\",\n",
    "        \"Namespace\": \"AWS/ApiGateway\",\n",
    "        \"ExtendedStatistic\": \"p95\",\n",
    "        \"Period\": 60,  # 1 minute\n",
    "        \"EvaluationPeriods\": 3,  # N=3, The number of periods over which data is compared to the specified threshold.\n",
    "        \"DatapointsToAlarm\": 2,  # M=2 out of N=3 datapoints must be breaching the threshold\n",
    "        \"Threshold\": 5000,  # 5 seconds\n",
    "        \"ComparisonOperator\": \"GreaterThanThreshold\",\n",
    "        \"TreatMissingData\": \"notBreaching\",\n",
    "        \"AlarmDescription\": \"If the p95 Latency > 3000 milliseconds of Files API endpoints constrained to the evaluation period then the alarm is triggered.\",\n",
    "        \"Dimensions\": [{\"Name\": \"ApiName\", \"Value\": \"Files API\"}],\n",
    "    }\n",
    "\n",
    "    if sns_topic_arn:\n",
    "        alarm_config[\"AlarmActions\"] = [sns_topic_arn]\n",
    "\n",
    "    cloudwatch_client = cloudwatch_client or boto3.client(\"cloudwatch\")\n",
    "    cloudwatch_client.put_metric_alarm(**alarm_config)\n",
    "\n",
    "\n",
    "def create_4xx_errors_alarm(\n",
    "    alarm_name: str,\n",
    "    sns_topic_arn: str = None,\n",
    "    cloudwatch_client: \"CloudWatchClient\" = None,\n",
    ") -> None:\n",
    "    \"\"\"\n",
    "    Create a CloudWatch alarm for the Files API 4xx errors metric.\n",
    "    \n",
    "    Args:\n",
    "        :alarm_name: str: The name of the alarm\n",
    "        :sns_topic_arn: str: The SNS topic ARN to send the alarm notification\n",
    "        :cloudwatch_client: CloudWatchClient: The CloudWatch client\n",
    "    \"\"\"\n",
    "    alarm_config = {\n",
    "        \"AlarmName\": alarm_name,\n",
    "        \"MetricName\": \"4XXError\",\n",
    "        \"Namespace\": \"AWS/ApiGateway\",\n",
    "        \"Statistic\": \"Sum\",\n",
    "        \"Period\": 60,  # 1 minute\n",
    "        \"EvaluationPeriods\": 3,\n",
    "        \"DatapointsToAlarm\": 2,\n",
    "        \"Threshold\": 5,  # 5 errors\n",
    "        \"ComparisonOperator\": \"GreaterThanThreshold\",\n",
    "        \"TreatMissingData\": \"notBreaching\",\n",
    "        \"AlarmDescription\": \"If the number of 4xx Errors > 5 for any endpoint of FilesAPI constrained to the evaluation period then the alarm is triggered.\",\n",
    "        \"Dimensions\": [{\"Name\": \"ApiName\", \"Value\": \"Files API\"}],\n",
    "    }\n",
    "\n",
    "    if sns_topic_arn:\n",
    "        alarm_config[\"AlarmActions\"] = [sns_topic_arn]\n",
    "\n",
    "    cloudwatch_client = cloudwatch_client or boto3.client(\"cloudwatch\")\n",
    "    cloudwatch_client.put_metric_alarm(**alarm_config)\n",
    "    \n",
    "\n",
    "\n",
    "def create_5xx_errors_alarm(\n",
    "    alarm_name: str,\n",
    "    sns_topic_arn: str = None,\n",
    "    cloudwatch_client: \"CloudWatchClient\" = None,\n",
    ") -> None:\n",
    "    \"\"\"\n",
    "    Create a CloudWatch alarm for the Files API 5xx errors metric.\n",
    "    \n",
    "    Args:\n",
    "        :alarm_name: str: The name of the alarm\n",
    "        :sns_topic_arn: str: The SNS topic ARN to send the alarm notification\n",
    "        :cloudwatch_client: CloudWatchClient: The CloudWatch client\n",
    "    \"\"\"\n",
    "    alarm_config = {\n",
    "        \"AlarmName\": alarm_name,\n",
    "        \"MetricName\": \"5XXError\",\n",
    "        \"Statistic\": \"Sum\",\n",
    "        \"Period\": 60,  # 1 minute\n",
    "        \"EvaluationPeriods\": 3,\n",
    "        \"DatapointsToAlarm\": 2,\n",
    "        \"Threshold\": 5,  # 5 errors\n",
    "        \"ComparisonOperator\": \"GreaterThanThreshold\",\n",
    "        \"TreatMissingData\": \"notBreaching\",\n",
    "        \"AlarmDescription\": \"If the number of 5xx Errors > 5 for any endpoint of FilesAPI constrained to the evaluation period then the alarm is triggered.\",\n",
    "        \"Namespace\": \"AWS/ApiGateway\",\n",
    "        \"Dimensions\": [{\"Name\": \"ApiName\", \"Value\": \"Files API\"}],\n",
    "    }\n",
    "\n",
    "    if sns_topic_arn:\n",
    "        alarm_config[\"AlarmActions\"] = [sns_topic_arn]\n",
    "\n",
    "    cloudwatch_client = cloudwatch_client or boto3.client(\"cloudwatch\")\n",
    "    cloudwatch_client.put_metric_alarm(**alarm_config)\n"
   ]
  },
  {
   "cell_type": "code",
   "execution_count": 157,
   "metadata": {},
   "outputs": [
    {
     "data": {
      "text/html": [
       "<pre style=\"white-space:pre;overflow-x:auto;line-height:normal;font-family:Menlo,'DejaVu Sans Mono',consolas,'Courier New',monospace\">Created SNS topic Response: <span style=\"font-weight: bold\">{</span><span style=\"color: #008000; text-decoration-color: #008000\">'TopicArn'</span>: <span style=\"color: #008000; text-decoration-color: #008000\">'arn:aws:sns:ap-south-1:730335491176:demo-topic'</span>, <span style=\"color: #008000; text-decoration-color: #008000\">'ResponseMetadata'</span>: \n",
       "<span style=\"font-weight: bold\">{</span><span style=\"color: #008000; text-decoration-color: #008000\">'RequestId'</span>: <span style=\"color: #008000; text-decoration-color: #008000\">'35988006-30c3-5c42-9d83-df1a58564c79'</span>, <span style=\"color: #008000; text-decoration-color: #008000\">'HTTPStatusCode'</span>: <span style=\"color: #008080; text-decoration-color: #008080; font-weight: bold\">200</span>, <span style=\"color: #008000; text-decoration-color: #008000\">'HTTPHeaders'</span>: <span style=\"font-weight: bold\">{</span><span style=\"color: #008000; text-decoration-color: #008000\">'x-amzn-requestid'</span>: \n",
       "<span style=\"color: #008000; text-decoration-color: #008000\">'35988006-30c3-5c42-9d83-df1a58564c79'</span>, <span style=\"color: #008000; text-decoration-color: #008000\">'date'</span>: <span style=\"color: #008000; text-decoration-color: #008000\">'Thu, 25 Jul 2024 14:51:01 GMT'</span>, <span style=\"color: #008000; text-decoration-color: #008000\">'content-type'</span>: <span style=\"color: #008000; text-decoration-color: #008000\">'text/xml'</span>, \n",
       "<span style=\"color: #008000; text-decoration-color: #008000\">'content-length'</span>: <span style=\"color: #008000; text-decoration-color: #008000\">'318'</span>, <span style=\"color: #008000; text-decoration-color: #008000\">'connection'</span>: <span style=\"color: #008000; text-decoration-color: #008000\">'keep-alive'</span><span style=\"font-weight: bold\">}</span>, <span style=\"color: #008000; text-decoration-color: #008000\">'RetryAttempts'</span>: <span style=\"color: #008080; text-decoration-color: #008080; font-weight: bold\">0</span><span style=\"font-weight: bold\">}}</span>\n",
       "</pre>\n"
      ],
      "text/plain": [
       "Created SNS topic Response: \u001b[1m{\u001b[0m\u001b[32m'TopicArn'\u001b[0m: \u001b[32m'arn:aws:sns:ap-south-1:730335491176:demo-topic'\u001b[0m, \u001b[32m'ResponseMetadata'\u001b[0m: \n",
       "\u001b[1m{\u001b[0m\u001b[32m'RequestId'\u001b[0m: \u001b[32m'35988006-30c3-5c42-9d83-df1a58564c79'\u001b[0m, \u001b[32m'HTTPStatusCode'\u001b[0m: \u001b[1;36m200\u001b[0m, \u001b[32m'HTTPHeaders'\u001b[0m: \u001b[1m{\u001b[0m\u001b[32m'x-amzn-requestid'\u001b[0m: \n",
       "\u001b[32m'35988006-30c3-5c42-9d83-df1a58564c79'\u001b[0m, \u001b[32m'date'\u001b[0m: \u001b[32m'Thu, 25 Jul 2024 14:51:01 GMT'\u001b[0m, \u001b[32m'content-type'\u001b[0m: \u001b[32m'text/xml'\u001b[0m, \n",
       "\u001b[32m'content-length'\u001b[0m: \u001b[32m'318'\u001b[0m, \u001b[32m'connection'\u001b[0m: \u001b[32m'keep-alive'\u001b[0m\u001b[1m}\u001b[0m, \u001b[32m'RetryAttempts'\u001b[0m: \u001b[1;36m0\u001b[0m\u001b[1m}\u001b[0m\u001b[1m}\u001b[0m\n"
      ]
     },
     "metadata": {},
     "output_type": "display_data"
    }
   ],
   "source": [
    "latency_alarm_name = \"DEMO-FilesAPI-Latency-Alarm\"\n",
    "errors_4xx_alarm_name = \"DEMO-FilesAPI-4xx-Errors-Alarm\"\n",
    "errors_5xx_alarm_name = \"DEMO-FilesAPI-5xx-Errors-Alarm\"\n",
    "\n",
    "sns_topic_arn = create_sns_topic(demo_topic_name)\n",
    "\n",
    "create_latency_alarm(alarm_name=latency_alarm_name, sns_topic_arn=sns_topic_arn)\n",
    "create_4xx_errors_alarm(alarm_name=errors_4xx_alarm_name, sns_topic_arn=sns_topic_arn)\n",
    "create_5xx_errors_alarm(alarm_name=errors_5xx_alarm_name, sns_topic_arn=sns_topic_arn)"
   ]
  },
  {
   "cell_type": "markdown",
   "metadata": {},
   "source": [
    "<p align=\"center\">\n",
    "  <img src=\"../assets/sns-demo.png\" alt=\"SNS Topic Created\" />\n",
    "  <br />\n",
    "  <em>SNS Topic Created</em>\n",
    "</p>\n",
    "\n",
    "<p align=\"center\">\n",
    "  <img src=\"../assets/alarms_demo.png\" alt=\"Alarms Created\" />\n",
    "  <br />\n",
    "  <em>Alarms Created</em>\n",
    "</p>\n"
   ]
  },
  {
   "cell_type": "code",
   "execution_count": 3,
   "metadata": {},
   "outputs": [],
   "source": [
    "import boto3\n",
    "from mypy_boto3_cloudwatch import CloudWatchClient\n",
    "\n",
    "def enable_alarm_actions(\n",
    "    alarm_names: list[str],\n",
    "    cloudwatch_client: \"CloudWatchClient\" = None,\n",
    ") -> None:\n",
    "    \"\"\"\n",
    "    Enable the alarm actions for the specified alarms.\n",
    "\n",
    "    Args:\n",
    "        :alarm_names: list[str]: The names of the alarms to enable actions\n",
    "        :cloudwatch_client: CloudWatchClient: The CloudWatch client\n",
    "    \"\"\"\n",
    "    cloudwatch_client = cloudwatch_client or boto3.client(\"cloudwatch\")\n",
    "    cloudwatch_client.enable_alarm_actions(AlarmNames=alarm_names)\n",
    "    \n",
    "\n",
    "def disable_alarm_actions(\n",
    "    alarm_names: list[str],\n",
    "    cloudwatch_client: \"CloudWatchClient\" = None,\n",
    ") -> None:\n",
    "    \"\"\"\n",
    "    Disable the alarm actions for the specified alarms.\n",
    "\n",
    "    Args:\n",
    "        :alarm_names: list[str]: The names of the alarms to disable actions\n",
    "        :cloudwatch_client: CloudWatchClient: The CloudWatch client\n",
    "    \"\"\"\n",
    "    cloudwatch_client = cloudwatch_client or boto3.client(\"cloudwatch\")\n",
    "    cloudwatch_client.disable_alarm_actions(AlarmNames=alarm_names)"
   ]
  },
  {
   "cell_type": "code",
   "execution_count": 5,
   "metadata": {},
   "outputs": [],
   "source": [
    "latency_alarm_name = \"DEMO-FilesAPI-Latency-Alarm\"\n",
    "errors_4xx_alarm_name = \"DEMO-FilesAPI-4xx-Errors-Alarm\"\n",
    "errors_5xx_alarm_name = \"DEMO-FilesAPI-5xx-Errors-Alarm\"\n",
    "\n",
    "disable_alarm_actions(alarm_names=[latency_alarm_name, errors_4xx_alarm_name])"
   ]
  },
  {
   "cell_type": "markdown",
   "metadata": {},
   "source": [
    "<p align=\"center\">\n",
    "  <img src=\"../assets/disable-alarm-demo.png\" alt=\"Alarms Disabled\" />\n",
    "  <br />\n",
    "  <em>Alarms Disabled</em>\n",
    "</p>\n"
   ]
  }
 ],
 "metadata": {
  "kernelspec": {
   "display_name": ".venv",
   "language": "python",
   "name": "python3"
  },
  "language_info": {
   "codemirror_mode": {
    "name": "ipython",
    "version": 3
   },
   "file_extension": ".py",
   "mimetype": "text/x-python",
   "name": "python",
   "nbconvert_exporter": "python",
   "pygments_lexer": "ipython3",
   "version": "3.11.9"
  }
 },
 "nbformat": 4,
 "nbformat_minor": 2
}
