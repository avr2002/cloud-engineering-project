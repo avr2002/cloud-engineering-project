{
 "cells": [
  {
   "cell_type": "code",
   "execution_count": 85,
   "metadata": {},
   "outputs": [],
   "source": [
    "import boto3\n",
    "import json\n",
    "import os\n",
    "from rich import print\n",
    "from mypy_boto3_cloudwatch import CloudWatchClient\n",
    "from mypy_boto3_cloudwatch.type_defs import GetDashboardOutputTypeDef\n",
    "\n",
    "\n",
    "DASHBOARD_NAME = \"FilesAPIDashboard\"\n",
    "\n",
    "cloudwatch_client: \"CloudWatchClient\" = boto3.client(\"cloudwatch\")"
   ]
  },
  {
   "cell_type": "markdown",
   "metadata": {},
   "source": [
    "## Dashboard"
   ]
  },
  {
   "cell_type": "code",
   "execution_count": 98,
   "metadata": {},
   "outputs": [
    {
     "data": {
      "text/plain": [
       "{'DashboardArn': 'arn:aws:cloudwatch::730335491176:dashboard/FilesAPIDashboard',\n",
       " 'DashboardBody': '{\"variables\":[],\"widgets\":[{\"height\":9,\"width\":12,\"y\":12,\"x\":0,\"type\":\"metric\",\"properties\":{\"metrics\":[[\"AWS/ApiGateway\",\"Latency\",\"ApiName\",\"Files API\",{\"label\":\"p95 Latency\",\"region\":\"ap-south-1\"}],[\"...\",{\"stat\":\"p50\",\"label\":\"p50 Latency\",\"region\":\"ap-south-1\"}]],\"view\":\"timeSeries\",\"stacked\":false,\"region\":\"ap-south-1\",\"yAxis\":{\"right\":{\"showUnits\":true},\"left\":{\"showUnits\":true}},\"legend\":{\"position\":\"bottom\"},\"setPeriodToTimeRange\":true,\"annotations\":{\"horizontal\":[{\"label\":\"Latency Threshold\",\"value\":3000}],\"vertical\":[{\"color\":\"#69ae34\",\"label\":\"v0.0.4\",\"value\":\"2024-07-25T15:55:04.011Z\"}]},\"stat\":\"p95\",\"period\":300,\"liveData\":true,\"title\":\"API Gateway Latency\"}},{\"height\":2,\"width\":24,\"y\":10,\"x\":0,\"type\":\"text\",\"properties\":{\"markdown\":\"# API Gateway (Global)\",\"background\":\"transparent\"}},{\"height\":2,\"width\":24,\"y\":30,\"x\":0,\"type\":\"text\",\"properties\":{\"markdown\":\"# API Gateway (Per Endpoint)\",\"background\":\"transparent\"}},{\"height\":2,\"width\":24,\"y\":53,\"x\":0,\"type\":\"text\",\"properties\":{\"markdown\":\"# Lambda Handler\",\"background\":\"transparent\"}},{\"height\":2,\"width\":24,\"y\":79,\"x\":0,\"type\":\"text\",\"properties\":{\"markdown\":\"# S3 Bucket\",\"background\":\"transparent\"}},{\"height\":9,\"width\":12,\"y\":21,\"x\":0,\"type\":\"metric\",\"properties\":{\"metrics\":[[\"AWS/ApiGateway\",\"5XXError\",\"ApiName\",\"Files API\",{\"region\":\"ap-south-1\"}]],\"view\":\"timeSeries\",\"stacked\":false,\"region\":\"ap-south-1\",\"stat\":\"Sum\",\"period\":300,\"liveData\":true,\"annotations\":{\"horizontal\":[{\"color\":\"#fe6e73\",\"label\":\"5xx Threshold Count\",\"value\":5}],\"vertical\":[{\"color\":\"#69ae34\",\"label\":\"v0.0.4\",\"value\":\"2024-07-25T15:55:04.011Z\"}]},\"yAxis\":{\"left\":{\"label\":\"\"},\"right\":{\"label\":\"\"}},\"title\":\"5XX Error Count\"}},{\"height\":9,\"width\":12,\"y\":21,\"x\":12,\"type\":\"metric\",\"properties\":{\"metrics\":[[\"AWS/ApiGateway\",\"4XXError\",\"ApiName\",\"Files API\",{\"region\":\"ap-south-1\"}]],\"view\":\"timeSeries\",\"stacked\":false,\"region\":\"ap-south-1\",\"stat\":\"Sum\",\"period\":300,\"liveData\":true,\"annotations\":{\"horizontal\":[{\"label\":\"4xx Threshold Count\",\"value\":10}],\"vertical\":[{\"color\":\"#69ae34\",\"label\":\"v0.0.4\",\"value\":\"2024-07-25T15:55:04.011Z\"}]},\"yAxis\":{\"left\":{\"label\":\"\"},\"right\":{\"label\":\"\"}},\"title\":\"4XX Error Count\",\"legend\":{\"position\":\"bottom\"}}},{\"height\":7,\"width\":24,\"y\":32,\"x\":0,\"type\":\"metric\",\"properties\":{\"metrics\":[[\"AWS/ApiGateway\",\"Latency\",\"ApiName\",\"Files API\",\"Resource\",\"/{proxy+}\",\"Stage\",\"prod\",\"Method\",\"GET\",{\"region\":\"ap-south-1\"}],[\"...\",{\"region\":\"ap-south-1\",\"stat\":\"p50\",\"color\":\"#08aad2\"}],[\"...\",\"PUT\",{\"region\":\"ap-south-1\",\"label\":\"PUT /{proxy+} p95\"}],[\"...\",{\"region\":\"ap-south-1\",\"color\":\"#69ae34\",\"label\":\"PUT /{proxy+} p50\",\"stat\":\"p50\"}],[\"...\",\"DELETE\",{\"region\":\"ap-south-1\"}],[\"...\",{\"region\":\"ap-south-1\",\"label\":\"DELETE /{proxy+} p50\",\"stat\":\"p50\"}],[\"...\",\"POST\",{\"region\":\"ap-south-1\"}],[\"...\",{\"region\":\"ap-south-1\",\"color\":\"#eb92ad\",\"stat\":\"p50\"}],[\"...\",\"/\",\".\",\".\",\".\",\"GET\",{\"region\":\"ap-south-1\"}],[\"...\",{\"region\":\"ap-south-1\",\"stat\":\"p50\",\"color\":\"#dfb52c\"}]],\"view\":\"timeSeries\",\"stacked\":false,\"region\":\"ap-south-1\",\"title\":\"p95 Latency per Endpoint\",\"liveData\":true,\"period\":300,\"stat\":\"p95\",\"legend\":{\"position\":\"right\"},\"yAxis\":{\"left\":{\"showUnits\":false}},\"annotations\":{\"vertical\":[{\"color\":\"#69ae34\",\"label\":\"v0.0.4\",\"value\":\"2024-07-25T15:55:04.011Z\"}]}}},{\"height\":7,\"width\":24,\"y\":39,\"x\":0,\"type\":\"metric\",\"properties\":{\"metrics\":[[\"AWS/ApiGateway\",\"5XXError\",\"ApiName\",\"Files API\",\"Resource\",\"/{proxy+}\",\"Stage\",\"prod\",\"Method\",\"PUT\",{\"region\":\"ap-south-1\"}],[\"...\",\"GET\",{\"region\":\"ap-south-1\"}],[\"...\",\"DELETE\",{\"region\":\"ap-south-1\"}],[\"...\",\"POST\"],[\"...\",\"/\",\".\",\".\",\".\",\"GET\"]],\"view\":\"timeSeries\",\"stacked\":false,\"region\":\"ap-south-1\",\"title\":\"5xx Errors per Endpoint\",\"period\":300,\"stat\":\"Sum\",\"legend\":{\"position\":\"right\"},\"annotations\":{\"vertical\":[{\"color\":\"#69ae34\",\"label\":\"v0.0.4\",\"value\":\"2024-07-25T15:55:04.011Z\"}]}}},{\"height\":7,\"width\":24,\"y\":46,\"x\":0,\"type\":\"metric\",\"properties\":{\"metrics\":[[\"AWS/ApiGateway\",\"4XXError\",\"ApiName\",\"Files API\",\"Resource\",\"/{proxy+}\",\"Stage\",\"prod\",\"Method\",\"PUT\",{\"region\":\"ap-south-1\"}],[\"...\",\"GET\",{\"region\":\"ap-south-1\"}],[\"...\",\"DELETE\",{\"region\":\"ap-south-1\"}],[\"...\",\"POST\"],[\"...\",\"/\",\".\",\".\",\".\",\"GET\"]],\"view\":\"timeSeries\",\"stacked\":false,\"region\":\"ap-south-1\",\"title\":\"4xx Errors per Endpoint\",\"period\":300,\"stat\":\"Sum\",\"legend\":{\"position\":\"right\"},\"annotations\":{\"vertical\":[{\"color\":\"#69ae34\",\"label\":\"v0.0.4\",\"value\":\"2024-07-25T15:55:04.011Z\"}]}}},{\"height\":8,\"width\":12,\"y\":63,\"x\":0,\"type\":\"metric\",\"properties\":{\"period\":60,\"metrics\":[[\"AWS/Lambda\",\"Invocations\",\"FunctionName\",\"files-api-handler\",{\"stat\":\"Sum\",\"region\":\"ap-south-1\"}]],\"region\":\"ap-south-1\",\"title\":\"Invocations\",\"view\":\"timeSeries\",\"stacked\":false,\"yAxis\":{\"left\":{\"showUnits\":true,\"label\":\"\"}},\"liveData\":true,\"annotations\":{\"vertical\":[{\"color\":\"#69ae34\",\"label\":\"v0.0.4\",\"value\":\"2024-07-25T15:55:04.011Z\"}]}}},{\"height\":8,\"width\":12,\"y\":63,\"x\":12,\"type\":\"metric\",\"properties\":{\"metrics\":[[\"AWS/Lambda\",\"Errors\",\"FunctionName\",\"files-api-handler\",{\"id\":\"errors\",\"color\":\"#d13212\",\"region\":\"ap-south-1\"}],[\".\",\"Invocations\",\".\",\".\",{\"id\":\"invocations\",\"region\":\"ap-south-1\",\"visible\":false}],[{\"expression\":\"100 - 100 * errors / MAX([errors, invocations])\",\"label\":\"Success rate (%)\",\"id\":\"availability\",\"yAxis\":\"right\",\"region\":\"ap-south-1\"}]],\"period\":60,\"region\":\"ap-south-1\",\"title\":\"Error Count and Success Rate (%)\",\"yAxis\":{\"right\":{\"max\":100}},\"view\":\"timeSeries\",\"stacked\":false,\"stat\":\"Sum\",\"annotations\":{\"vertical\":[{\"color\":\"#69ae34\",\"label\":\"v0.0.4\",\"value\":\"2024-07-25T15:55:04.011Z\"}]}}},{\"height\":8,\"width\":12,\"y\":71,\"x\":0,\"type\":\"metric\",\"properties\":{\"metrics\":[[\"AWS/Lambda\",\"ConcurrentExecutions\",\"FunctionName\",\"files-api-handler\",{\"label\":\"Total concurrent executions\",\"region\":\"ap-south-1\"}]],\"period\":60,\"region\":\"ap-south-1\",\"title\":\"Total Concurrent Executions\",\"view\":\"timeSeries\",\"stacked\":false,\"stat\":\"Maximum\",\"yAxis\":{\"left\":{\"showUnits\":true}},\"annotations\":{\"vertical\":[{\"color\":\"#69ae34\",\"label\":\"v0.0.4\",\"value\":\"2024-07-25T15:55:04.011Z\"}]}}},{\"height\":8,\"width\":12,\"y\":71,\"x\":12,\"type\":\"metric\",\"properties\":{\"period\":60,\"metrics\":[[\"AWS/Lambda\",\"Throttles\",\"FunctionName\",\"files-api-handler\",{\"stat\":\"Sum\",\"region\":\"ap-south-1\"}]],\"region\":\"ap-south-1\",\"view\":\"timeSeries\",\"stacked\":false,\"title\":\"Throttles\",\"annotations\":{\"vertical\":[{\"color\":\"#69ae34\",\"label\":\"v0.0.4\",\"value\":\"2024-07-25T15:55:04.011Z\"}]}}},{\"height\":9,\"width\":12,\"y\":81,\"x\":0,\"type\":\"metric\",\"properties\":{\"metrics\":[[\"AWS/S3\",\"NumberOfObjects\",\"BucketName\",\"python-aws-cloud-course-bucket\",\"StorageType\",\"AllStorageTypes\",{\"region\":\"ap-south-1\"}]],\"view\":\"timeSeries\",\"stacked\":false,\"region\":\"ap-south-1\",\"stat\":\"Average\",\"period\":86400,\"title\":\"Average Number of Objects in the Bucket per Day\",\"annotations\":{\"vertical\":[{\"color\":\"#69ae34\",\"label\":\"v0.0.4\",\"value\":\"2024-07-25T15:55:04.011Z\"}]}}},{\"height\":9,\"width\":12,\"y\":81,\"x\":12,\"type\":\"metric\",\"properties\":{\"metrics\":[[{\"expression\":\"METRICS()/1000000000\",\"id\":\"e1\",\"region\":\"ap-south-1\",\"label\":\"BucketSizeGB\"}],[\"AWS/S3\",\"BucketSizeBytes\",\"BucketName\",\"python-aws-cloud-course-bucket\",\"StorageType\",\"StandardStorage\",{\"id\":\"m1\",\"visible\":false,\"region\":\"ap-south-1\"}]],\"view\":\"timeSeries\",\"stacked\":false,\"region\":\"ap-south-1\",\"stat\":\"Average\",\"period\":86400,\"title\":\"Average Bucket Size per day in GB\",\"legend\":{\"position\":\"hidden\"},\"liveData\":false,\"yAxis\":{\"left\":{\"label\":\"Size in GB\"}},\"annotations\":{\"vertical\":[{\"color\":\"#69ae34\",\"label\":\"v0.0.4\",\"value\":\"2024-07-25T15:55:04.011Z\"}]}}},{\"height\":9,\"width\":12,\"y\":12,\"x\":12,\"type\":\"metric\",\"properties\":{\"metrics\":[[\"AWS/ApiGateway\",\"Count\",\"ApiName\",\"Files API\",{\"region\":\"ap-south-1\"}]],\"view\":\"timeSeries\",\"stacked\":false,\"region\":\"ap-south-1\",\"stat\":\"Sum\",\"period\":300,\"title\":\"API Request Count\",\"annotations\":{\"horizontal\":[{\"label\":\"Request Count Threshold\",\"value\":300}],\"vertical\":[{\"color\":\"#69ae34\",\"label\":\"v0.0.4\",\"value\":\"2024-07-25T15:55:04.011Z\"}]}}},{\"height\":8,\"width\":24,\"y\":2,\"x\":0,\"type\":\"metric\",\"properties\":{\"metrics\":[[\"FilesAPINamespace\",\"OpenAITokensUsage\",\"service\",\"FilesAPIService\",{\"region\":\"ap-south-1\"}]],\"view\":\"timeSeries\",\"stacked\":false,\"region\":\"ap-south-1\",\"stat\":\"Sum\",\"period\":300,\"title\":\"OpenAI Token Usage\",\"annotations\":{\"horizontal\":[{\"label\":\"Token Usage Limit\",\"value\":300}],\"vertical\":[{\"color\":\"#69ae34\",\"label\":\"v0.0.4\",\"value\":\"2024-07-25T15:55:04.011Z\"}]}}},{\"height\":2,\"width\":24,\"y\":0,\"x\":0,\"type\":\"text\",\"properties\":{\"markdown\":\"# Open AI Tokens Usage\"}},{\"type\":\"log\",\"x\":0,\"y\":55,\"width\":24,\"height\":8,\"properties\":{\"query\":\"SOURCE \\'/aws/lambda/files-api-handler\\' | filter @type=\\\\\"REPORT\\\\\" and ispresent(@initDuration)\\\\n| stats count() as coldStarts,\\\\npct(@initDuration, 95) as p95_initDuration,\\\\npct(@initDuration, 50) as p50_initDuration by bin(1m) as timeInterval_1m\\\\n| sort timeInterval_1m asc\",\"region\":\"ap-south-1\",\"stacked\":false,\"title\":\"Lambda InitDuration and Cold Starts\",\"view\":\"timeSeries\",\"annotations\":{\"vertical\":[{\"color\":\"#69ae34\",\"label\":\"v0.0.4\",\"value\":\"2024-07-25T15:55:04.011Z\"}]}}}]}',\n",
       " 'DashboardName': 'FilesAPIDashboard',\n",
       " 'ResponseMetadata': {'RequestId': '7712b957-6b74-48d6-aca7-bb176fcdf1dd',\n",
       "  'HTTPStatusCode': 200,\n",
       "  'HTTPHeaders': {'x-amzn-requestid': '7712b957-6b74-48d6-aca7-bb176fcdf1dd',\n",
       "   'content-type': 'text/xml',\n",
       "   'content-length': '17213',\n",
       "   'date': 'Thu, 25 Jul 2024 10:40:42 GMT'},\n",
       "  'RetryAttempts': 0}}"
      ]
     },
     "execution_count": 98,
     "metadata": {},
     "output_type": "execute_result"
    }
   ],
   "source": [
    "cloudwatch_client.get_dashboard(DashboardName=\"FilesAPIDashboard\")"
   ]
  },
  {
   "cell_type": "code",
   "execution_count": 144,
   "metadata": {},
   "outputs": [
    {
     "data": {
      "text/plain": [
       "dict_keys(['variables', 'widgets'])"
      ]
     },
     "execution_count": 144,
     "metadata": {},
     "output_type": "execute_result"
    }
   ],
   "source": [
    "response: \"GetDashboardOutputTypeDef\" = cloudwatch_client.get_dashboard(DashboardName=DASHBOARD_NAME)\n",
    "\n",
    "dashboard_body: str | None = response.get(\"DashboardBody\")\n",
    "dashboard_body: dict = json.loads(dashboard_body)\n",
    "dashboard_body.keys()"
   ]
  },
  {
   "cell_type": "code",
   "execution_count": 96,
   "metadata": {},
   "outputs": [
    {
     "data": {
      "text/plain": [
       "'2024-07-25T10:37:57.626Z'"
      ]
     },
     "execution_count": 96,
     "metadata": {},
     "output_type": "execute_result"
    }
   ],
   "source": [
    "from datetime import datetime, timezone\n",
    "\n",
    "# \"2024-07-04T09:37:08.000Z\"\n",
    "datetime.now(timezone.utc).isoformat(timespec=\"milliseconds\").replace(\"+00:00\", \"Z\")"
   ]
  },
  {
   "cell_type": "code",
   "execution_count": 139,
   "metadata": {},
   "outputs": [],
   "source": [
    "from pathlib import Path\n",
    "from datetime import datetime, timezone\n",
    "\n",
    "VERSION_TXT_PATH = Path(\"../version.txt\")\n",
    "\n",
    "\n",
    "def get_deployment_verison(verion_txt_path: Path) -> str:\n",
    "    \"\"\"Get the deployment version from version.txt\"\"\"\n",
    "    if not verion_txt_path.exists():\n",
    "        raise FileNotFoundError(f\"File not found: {verion_txt_path}\")\n",
    "\n",
    "    # read version.txt\n",
    "    with open(verion_txt_path, \"r\") as f:\n",
    "        version = f.read().strip()\n",
    "    return version\n",
    "\n",
    "\n",
    "def add_vertical_annotations_to_widgets(dashboard_body: dict, version_txt_path: Path, N: int) -> dict:\n",
    "    \"\"\"\n",
    "    Add a vertical annotation to all timeSeries widgets in the dashboard with the current deployment version.\n",
    "\n",
    "    Args:\n",
    "        :dashboard_body: dict: The dashboard body from CloudWatch\n",
    "        :version_txt_path: Path: The path to the version.txt file\n",
    "        :N: int: The number of deployment events to keep for the annotations\n",
    "    Returns:\n",
    "        :dict: The updated dashboard body\n",
    "    \"\"\"\n",
    "    # get deployment version\n",
    "    version = get_deployment_verison(version_txt_path)\n",
    "\n",
    "    # get current time in ISO format, \"2024-07-04T09:37:08.000Z\"\n",
    "    current_time = datetime.now(timezone.utc).isoformat(timespec=\"milliseconds\").replace(\"+00:00\", \"Z\")\n",
    "\n",
    "    for widget in dashboard_body.get(\"widgets\", []):\n",
    "        widget_properties: dict = widget.get(\"properties\") or dict()\n",
    "        if widget_properties.get(\"view\") == \"timeSeries\":\n",
    "            # get annotations\n",
    "            annotations: dict[str, list[dict]] = widget_properties.get(\"annotations\") or dict()\n",
    "\n",
    "            # add vertical annotation\n",
    "            vertical_annotations = annotations.get(\"vertical\") or list()\n",
    "\n",
    "            # only keep last n deployments annotations\n",
    "            vertical_annotations = vertical_annotations[-N:]\n",
    "            vertical_annotations.append({\"color\": \"#69ae34\", \"label\": f\"{version}\", \"value\": current_time})\n",
    "\n",
    "            # overwrite current annotations\n",
    "            annotations[\"vertical\"] = vertical_annotations\n",
    "            widget_properties[\"annotations\"] = annotations\n",
    "\n",
    "    return dashboard_body\n",
    "\n",
    "\n",
    "def reset_dashboard_widgets(dashboard_body: dict) -> dict:\n",
    "    \"\"\"\n",
    "    Reset the dashboard widgets by removing all vertical annotations.\n",
    "\n",
    "    Args:\n",
    "        :dashboard_body: dict: The dashboard body from CloudWatch\n",
    "    Returns:\n",
    "        :dict: The updated dashboard body\n",
    "    \"\"\"\n",
    "    for widget in dashboard_body.get(\"widgets\", []):\n",
    "        widget_properties: dict = widget.get(\"properties\") or dict()\n",
    "        if widget_properties.get(\"view\") == \"timeSeries\":\n",
    "            # get annotations\n",
    "            annotations: dict[str, list[dict]] = widget_properties.get(\"annotations\") or dict()\n",
    "            vertical_annotations = annotations.get(\"vertical\") or list()\n",
    "            if vertical_annotations:\n",
    "                annotations[\"vertical\"] = []  # remove vertical annotations\n",
    "\n",
    "            widget_properties[\"annotations\"] = annotations\n",
    "\n",
    "    return dashboard_body"
   ]
  },
  {
   "cell_type": "code",
   "execution_count": 140,
   "metadata": {},
   "outputs": [],
   "source": [
    "# dashboard_body"
   ]
  },
  {
   "cell_type": "code",
   "execution_count": 141,
   "metadata": {},
   "outputs": [],
   "source": [
    "# reset_dashboard_widgets(dashboard_body)"
   ]
  },
  {
   "cell_type": "code",
   "execution_count": 142,
   "metadata": {},
   "outputs": [],
   "source": [
    "def update_dashboard_widgets(\n",
    "    cloudwatch_client: \"CloudWatchClient\" = None,\n",
    "    dashboard_name: str = None,\n",
    "    version_txt_path: Path = None,\n",
    "    N: int = None,\n",
    "    reset: bool = False,\n",
    ") -> None:\n",
    "    \"\"\"\n",
    "    Update the dashboard widgets with vertical line for the deployment version.\n",
    "\n",
    "    args:\n",
    "        :cloudwatch_client: CloudWatchClient: The CloudWatch client\n",
    "        :dashboard_name: str: The name of the dashboard\n",
    "        :verion_txt_path: Path: The path to the version.txt file\n",
    "        :N: int: The number of deployment events to keep for the vertical annotations, default 10\n",
    "        :reset: bool: Reset the dashboard widgets, i.e. remove all vertical annotations; default False\n",
    "\n",
    "    returns: None\n",
    "    \"\"\"\n",
    "    version_txt_path = version_txt_path or VERSION_TXT_PATH\n",
    "    N = N or 10\n",
    "    dashboard_name = dashboard_name or os.environ[\"DASHBOARD_NAME\"]\n",
    "    cloudwatch_client = cloudwatch_client or boto3.client(\"cloudwatch\")\n",
    "    response: \"GetDashboardOutputTypeDef\" = cloudwatch_client.get_dashboard(DashboardName=dashboard_name)\n",
    "\n",
    "    dashboard_body: str | None = response.get(\"DashboardBody\")\n",
    "    dashboard_body: dict = json.loads(dashboard_body)\n",
    "\n",
    "    if reset:\n",
    "        # reset dashboard widgets\n",
    "        updated_dashboard_body = reset_dashboard_widgets(dashboard_body)\n",
    "\n",
    "    # update dashboard widgets\n",
    "    updated_dashboard_body = add_vertical_annotations_to_widgets(dashboard_body, version_txt_path, N=N)\n",
    "\n",
    "    # update the dashboard\n",
    "    cloudwatch_client.put_dashboard(\n",
    "        DashboardName=dashboard_name,\n",
    "        DashboardBody=json.dumps(updated_dashboard_body),\n",
    "    )"
   ]
  },
  {
   "cell_type": "code",
   "execution_count": 143,
   "metadata": {},
   "outputs": [],
   "source": [
    "DASHBOARD_NAME = \"FilesAPIDashboard\"\n",
    "VERSION_TXT_PATH = Path(\"../version.txt\")\n",
    "\n",
    "update_dashboard_widgets(dashboard_name=DASHBOARD_NAME, version_txt_path=VERSION_TXT_PATH, reset=True)"
   ]
  },
  {
   "cell_type": "markdown",
   "metadata": {},
   "source": [
    "## Alarms"
   ]
  },
  {
   "cell_type": "code",
   "execution_count": 152,
   "metadata": {},
   "outputs": [
    {
     "data": {
      "text/html": [
       "<pre style=\"white-space:pre;overflow-x:auto;line-height:normal;font-family:Menlo,'DejaVu Sans Mono',consolas,'Courier New',monospace\">Created SNS topic Response: <span style=\"font-weight: bold\">{</span><span style=\"color: #008000; text-decoration-color: #008000\">'TopicArn'</span>: <span style=\"color: #008000; text-decoration-color: #008000\">'arn:aws:sns:ap-south-1:730335491176:demo-topic'</span>, <span style=\"color: #008000; text-decoration-color: #008000\">'ResponseMetadata'</span>: \n",
       "<span style=\"font-weight: bold\">{</span><span style=\"color: #008000; text-decoration-color: #008000\">'RequestId'</span>: <span style=\"color: #008000; text-decoration-color: #008000\">'cf97e0f2-b70a-55b1-a58b-bfeed0830d2a'</span>, <span style=\"color: #008000; text-decoration-color: #008000\">'HTTPStatusCode'</span>: <span style=\"color: #008080; text-decoration-color: #008080; font-weight: bold\">200</span>, <span style=\"color: #008000; text-decoration-color: #008000\">'HTTPHeaders'</span>: <span style=\"font-weight: bold\">{</span><span style=\"color: #008000; text-decoration-color: #008000\">'x-amzn-requestid'</span>: \n",
       "<span style=\"color: #008000; text-decoration-color: #008000\">'cf97e0f2-b70a-55b1-a58b-bfeed0830d2a'</span>, <span style=\"color: #008000; text-decoration-color: #008000\">'date'</span>: <span style=\"color: #008000; text-decoration-color: #008000\">'Thu, 25 Jul 2024 14:46:33 GMT'</span>, <span style=\"color: #008000; text-decoration-color: #008000\">'content-type'</span>: <span style=\"color: #008000; text-decoration-color: #008000\">'text/xml'</span>, \n",
       "<span style=\"color: #008000; text-decoration-color: #008000\">'content-length'</span>: <span style=\"color: #008000; text-decoration-color: #008000\">'318'</span>, <span style=\"color: #008000; text-decoration-color: #008000\">'connection'</span>: <span style=\"color: #008000; text-decoration-color: #008000\">'keep-alive'</span><span style=\"font-weight: bold\">}</span>, <span style=\"color: #008000; text-decoration-color: #008000\">'RetryAttempts'</span>: <span style=\"color: #008080; text-decoration-color: #008080; font-weight: bold\">0</span><span style=\"font-weight: bold\">}}</span>\n",
       "</pre>\n"
      ],
      "text/plain": [
       "Created SNS topic Response: \u001b[1m{\u001b[0m\u001b[32m'TopicArn'\u001b[0m: \u001b[32m'arn:aws:sns:ap-south-1:730335491176:demo-topic'\u001b[0m, \u001b[32m'ResponseMetadata'\u001b[0m: \n",
       "\u001b[1m{\u001b[0m\u001b[32m'RequestId'\u001b[0m: \u001b[32m'cf97e0f2-b70a-55b1-a58b-bfeed0830d2a'\u001b[0m, \u001b[32m'HTTPStatusCode'\u001b[0m: \u001b[1;36m200\u001b[0m, \u001b[32m'HTTPHeaders'\u001b[0m: \u001b[1m{\u001b[0m\u001b[32m'x-amzn-requestid'\u001b[0m: \n",
       "\u001b[32m'cf97e0f2-b70a-55b1-a58b-bfeed0830d2a'\u001b[0m, \u001b[32m'date'\u001b[0m: \u001b[32m'Thu, 25 Jul 2024 14:46:33 GMT'\u001b[0m, \u001b[32m'content-type'\u001b[0m: \u001b[32m'text/xml'\u001b[0m, \n",
       "\u001b[32m'content-length'\u001b[0m: \u001b[32m'318'\u001b[0m, \u001b[32m'connection'\u001b[0m: \u001b[32m'keep-alive'\u001b[0m\u001b[1m}\u001b[0m, \u001b[32m'RetryAttempts'\u001b[0m: \u001b[1;36m0\u001b[0m\u001b[1m}\u001b[0m\u001b[1m}\u001b[0m\n"
      ]
     },
     "metadata": {},
     "output_type": "display_data"
    },
    {
     "data": {
      "text/html": [
       "<pre style=\"white-space:pre;overflow-x:auto;line-height:normal;font-family:Menlo,'DejaVu Sans Mono',consolas,'Courier New',monospace\">Email Subscription Response: <span style=\"font-weight: bold\">{</span><span style=\"color: #008000; text-decoration-color: #008000\">'SubscriptionArn'</span>: <span style=\"color: #008000; text-decoration-color: #008000\">'pending confirmation'</span>, <span style=\"color: #008000; text-decoration-color: #008000\">'ResponseMetadata'</span>: <span style=\"font-weight: bold\">{</span><span style=\"color: #008000; text-decoration-color: #008000\">'RequestId'</span>: \n",
       "<span style=\"color: #008000; text-decoration-color: #008000\">'4d3ece02-98a5-5189-a115-911eff2c1b35'</span>, <span style=\"color: #008000; text-decoration-color: #008000\">'HTTPStatusCode'</span>: <span style=\"color: #008080; text-decoration-color: #008080; font-weight: bold\">200</span>, <span style=\"color: #008000; text-decoration-color: #008000\">'HTTPHeaders'</span>: <span style=\"font-weight: bold\">{</span><span style=\"color: #008000; text-decoration-color: #008000\">'x-amzn-requestid'</span>: \n",
       "<span style=\"color: #008000; text-decoration-color: #008000\">'4d3ece02-98a5-5189-a115-911eff2c1b35'</span>, <span style=\"color: #008000; text-decoration-color: #008000\">'date'</span>: <span style=\"color: #008000; text-decoration-color: #008000\">'Thu, 25 Jul 2024 14:46:33 GMT'</span>, <span style=\"color: #008000; text-decoration-color: #008000\">'content-type'</span>: <span style=\"color: #008000; text-decoration-color: #008000\">'text/xml'</span>, \n",
       "<span style=\"color: #008000; text-decoration-color: #008000\">'content-length'</span>: <span style=\"color: #008000; text-decoration-color: #008000\">'298'</span>, <span style=\"color: #008000; text-decoration-color: #008000\">'connection'</span>: <span style=\"color: #008000; text-decoration-color: #008000\">'keep-alive'</span><span style=\"font-weight: bold\">}</span>, <span style=\"color: #008000; text-decoration-color: #008000\">'RetryAttempts'</span>: <span style=\"color: #008080; text-decoration-color: #008080; font-weight: bold\">0</span><span style=\"font-weight: bold\">}}</span>\n",
       "</pre>\n"
      ],
      "text/plain": [
       "Email Subscription Response: \u001b[1m{\u001b[0m\u001b[32m'SubscriptionArn'\u001b[0m: \u001b[32m'pending confirmation'\u001b[0m, \u001b[32m'ResponseMetadata'\u001b[0m: \u001b[1m{\u001b[0m\u001b[32m'RequestId'\u001b[0m: \n",
       "\u001b[32m'4d3ece02-98a5-5189-a115-911eff2c1b35'\u001b[0m, \u001b[32m'HTTPStatusCode'\u001b[0m: \u001b[1;36m200\u001b[0m, \u001b[32m'HTTPHeaders'\u001b[0m: \u001b[1m{\u001b[0m\u001b[32m'x-amzn-requestid'\u001b[0m: \n",
       "\u001b[32m'4d3ece02-98a5-5189-a115-911eff2c1b35'\u001b[0m, \u001b[32m'date'\u001b[0m: \u001b[32m'Thu, 25 Jul 2024 14:46:33 GMT'\u001b[0m, \u001b[32m'content-type'\u001b[0m: \u001b[32m'text/xml'\u001b[0m, \n",
       "\u001b[32m'content-length'\u001b[0m: \u001b[32m'298'\u001b[0m, \u001b[32m'connection'\u001b[0m: \u001b[32m'keep-alive'\u001b[0m\u001b[1m}\u001b[0m, \u001b[32m'RetryAttempts'\u001b[0m: \u001b[1;36m0\u001b[0m\u001b[1m}\u001b[0m\u001b[1m}\u001b[0m\n"
      ]
     },
     "metadata": {},
     "output_type": "display_data"
    },
    {
     "data": {
      "text/html": [
       "<pre style=\"white-space:pre;overflow-x:auto;line-height:normal;font-family:Menlo,'DejaVu Sans Mono',consolas,'Courier New',monospace\">Please confirm the subscription by clicking the link in the email sent to you.\n",
       "</pre>\n"
      ],
      "text/plain": [
       "Please confirm the subscription by clicking the link in the email sent to you.\n"
      ]
     },
     "metadata": {},
     "output_type": "display_data"
    }
   ],
   "source": [
    "import boto3\n",
    "from mypy_boto3_sns import SNSClient\n",
    "from mypy_boto3_sns.type_defs import CreateTopicResponseTypeDef\n",
    "\n",
    "# https://boto3.amazonaws.com/v1/documentation/api/latest/reference/services/sns.html\n",
    "# https://boto3.amazonaws.com/v1/documentation/api/latest/reference/services/sns/client/create_topic.html\n",
    "def create_sns_topic(topic_name: str, sns_client: \"SNSClient\" = None) -> str:\n",
    "    \"\"\"\n",
    "    Create a new SNS topic or get the TopicARN if it already exists.\n",
    "\n",
    "    Args:\n",
    "        :sns_client: SNSClient: The SNS client\n",
    "        :topic_name: str: The name of the topic\n",
    "\n",
    "    Returns:\n",
    "        :str: The ARN of the new/existing topic\n",
    "    \"\"\"\n",
    "    sns_client = sns_client or boto3.client(\"sns\")\n",
    "    response: \"CreateTopicResponseTypeDef\" = sns_client.create_topic(Name=topic_name)\n",
    "    print(f\"Created SNS topic Response: {response}\")\n",
    "    topic_arn = response[\"TopicArn\"]\n",
    "    return topic_arn\n",
    "\n",
    "\n",
    "# https://boto3.amazonaws.com/v1/documentation/api/latest/reference/services/sns/client/subscribe.html\n",
    "def subscribe_email_to_topic(topic_name: str, email: str, sns_client: \"SNSClient\" = None) -> None:\n",
    "    \"\"\"\n",
    "    Subscribe an email to an SNS topic.\n",
    "\n",
    "    Args:\n",
    "        :sns_client: SNSClient: The SNS client\n",
    "        :topic_name: str: The name of the SNS topic to subscribe to. If the topic does not exist, it will be created.\n",
    "        :email: str: The email to subscribe\n",
    "\n",
    "    Returns:\n",
    "        :None:\n",
    "    \"\"\"\n",
    "    sns_client = sns_client or boto3.client(\"sns\")\n",
    "    topic_arn = create_sns_topic(topic_name)\n",
    "    response = sns_client.subscribe(TopicArn=topic_arn, Protocol=\"email\", Endpoint=email)\n",
    "    print(f\"Email Subscription Response: {response}\")\n",
    "    print(\"Please confirm the subscription by clicking the link in the email sent to you.\")\n",
    "\n",
    "\n",
    "demo_topic_name = \"demo-topic\"\n",
    "subscribe_email_to_topic(topic_name=demo_topic_name, email=\"avr13405@gmail.com\")"
   ]
  },
  {
   "cell_type": "code",
   "execution_count": 156,
   "metadata": {},
   "outputs": [],
   "source": [
    "# https://boto3.amazonaws.com/v1/documentation/api/latest/reference/services/cloudwatch.html\n",
    "\n",
    "# https://boto3.amazonaws.com/v1/documentation/api/latest/reference/services/cloudwatch/client/put_metric_alarm.html\n",
    "\n",
    "def create_latency_alarm(\n",
    "    alarm_name: str,\n",
    "    sns_topic_arn: str = None,\n",
    "    cloudwatch_client: \"CloudWatchClient\" = None,\n",
    ") -> None:\n",
    "    \"\"\"\n",
    "    Create a CloudWatch alarm for the Files API latency metric.\n",
    "\n",
    "    Args:\n",
    "        :alarm_name: str: The name of the alarm\n",
    "        :sns_topic_arn: str: The SNS topic ARN to send the alarm notification\n",
    "        :cloudwatch_client: CloudWatchClient: The CloudWatch client\n",
    "    \"\"\"\n",
    "    alarm_config = {\n",
    "        \"AlarmName\": alarm_name,\n",
    "        \"MetricName\": \"Latency\",\n",
    "        \"Namespace\": \"AWS/ApiGateway\",\n",
    "        \"ExtendedStatistic\": \"p95\",\n",
    "        \"Period\": 60,  # 1 minute\n",
    "        \"EvaluationPeriods\": 3,  # N=3, The number of periods over which data is compared to the specified threshold.\n",
    "        \"DatapointsToAlarm\": 2,  # M=2 out of N=3 datapoints must be breaching the threshold\n",
    "        \"Threshold\": 5000,  # 5 seconds\n",
    "        \"ComparisonOperator\": \"GreaterThanThreshold\",\n",
    "        \"TreatMissingData\": \"notBreaching\",\n",
    "        \"AlarmDescription\": \"If the p95 Latency > 5000 milliseconds of Files API endpoints within a 1 min time interval range for 2 out 3 times consecutive times then the alarm is triggered.\",\n",
    "        \"Dimensions\": [{\"Name\": \"ApiName\", \"Value\": \"Files API\"}],\n",
    "    }\n",
    "\n",
    "    if sns_topic_arn:\n",
    "        alarm_config[\"AlarmActions\"] = [sns_topic_arn]\n",
    "\n",
    "    cloudwatch_client = cloudwatch_client or boto3.client(\"cloudwatch\")\n",
    "    cloudwatch_client.put_metric_alarm(**alarm_config)\n",
    "\n",
    "\n",
    "def create_4xx_errors_alarm(\n",
    "    alarm_name: str,\n",
    "    sns_topic_arn: str = None,\n",
    "    cloudwatch_client: \"CloudWatchClient\" = None,\n",
    ") -> None:\n",
    "    \"\"\"\n",
    "    Create a CloudWatch alarm for the Files API 4xx errors metric.\n",
    "    \n",
    "    Args:\n",
    "        :alarm_name: str: The name of the alarm\n",
    "        :sns_topic_arn: str: The SNS topic ARN to send the alarm notification\n",
    "        :cloudwatch_client: CloudWatchClient: The CloudWatch client\n",
    "    \"\"\"\n",
    "    alarm_config = {\n",
    "        \"AlarmName\": alarm_name,\n",
    "        \"MetricName\": \"4XXError\",\n",
    "        \"Namespace\": \"AWS/ApiGateway\",\n",
    "        \"Statistic\": \"Sum\",\n",
    "        \"Period\": 60,  # 1 minute\n",
    "        \"EvaluationPeriods\": 3,\n",
    "        \"DatapointsToAlarm\": 2,\n",
    "        \"Threshold\": 5,  # 5 errors\n",
    "        \"ComparisonOperator\": \"GreaterThanThreshold\",\n",
    "        \"TreatMissingData\": \"notBreaching\",\n",
    "        \"AlarmDescription\": \"If the number of 4xx Errors > 5 for any endpoint of FilesAPI within a 1 min time interval range for 2 out 3 consecutive times then the alarm is triggered.\",\n",
    "        \"Dimensions\": [{\"Name\": \"ApiName\", \"Value\": \"Files API\"}],\n",
    "    }\n",
    "\n",
    "    if sns_topic_arn:\n",
    "        alarm_config[\"AlarmActions\"] = [sns_topic_arn]\n",
    "\n",
    "    cloudwatch_client = cloudwatch_client or boto3.client(\"cloudwatch\")\n",
    "    cloudwatch_client.put_metric_alarm(**alarm_config)\n",
    "    \n",
    "\n",
    "\n",
    "def create_5xx_errors_alarm(\n",
    "    alarm_name: str,\n",
    "    sns_topic_arn: str = None,\n",
    "    cloudwatch_client: \"CloudWatchClient\" = None,\n",
    ") -> None:\n",
    "    \"\"\"\n",
    "    Create a CloudWatch alarm for the Files API 5xx errors metric.\n",
    "    \n",
    "    Args:\n",
    "        :alarm_name: str: The name of the alarm\n",
    "        :sns_topic_arn: str: The SNS topic ARN to send the alarm notification\n",
    "        :cloudwatch_client: CloudWatchClient: The CloudWatch client\n",
    "    \"\"\"\n",
    "    alarm_config = {\n",
    "        \"AlarmName\": alarm_name,\n",
    "        \"MetricName\": \"5XXError\",\n",
    "        \"Statistic\": \"Sum\",\n",
    "        \"Period\": 60,  # 1 minute\n",
    "        \"EvaluationPeriods\": 3,\n",
    "        \"DatapointsToAlarm\": 2,\n",
    "        \"Threshold\": 5,  # 5 errors\n",
    "        \"ComparisonOperator\": \"GreaterThanThreshold\",\n",
    "        \"TreatMissingData\": \"notBreaching\",\n",
    "        \"AlarmDescription\": \"If the number of 5xx Errors > 5 for any endpoint of FilesAPI within a 1 min time interval range for 2 out 3 consecutive times then the alarm is triggered.\",\n",
    "        \"Namespace\": \"AWS/ApiGateway\",\n",
    "        \"Dimensions\": [{\"Name\": \"ApiName\", \"Value\": \"Files API\"}],\n",
    "    }\n",
    "\n",
    "    if sns_topic_arn:\n",
    "        alarm_config[\"AlarmActions\"] = [sns_topic_arn]\n",
    "\n",
    "    cloudwatch_client = cloudwatch_client or boto3.client(\"cloudwatch\")\n",
    "    cloudwatch_client.put_metric_alarm(**alarm_config)\n"
   ]
  },
  {
   "cell_type": "code",
   "execution_count": 157,
   "metadata": {},
   "outputs": [
    {
     "data": {
      "text/html": [
       "<pre style=\"white-space:pre;overflow-x:auto;line-height:normal;font-family:Menlo,'DejaVu Sans Mono',consolas,'Courier New',monospace\">Created SNS topic Response: <span style=\"font-weight: bold\">{</span><span style=\"color: #008000; text-decoration-color: #008000\">'TopicArn'</span>: <span style=\"color: #008000; text-decoration-color: #008000\">'arn:aws:sns:ap-south-1:730335491176:demo-topic'</span>, <span style=\"color: #008000; text-decoration-color: #008000\">'ResponseMetadata'</span>: \n",
       "<span style=\"font-weight: bold\">{</span><span style=\"color: #008000; text-decoration-color: #008000\">'RequestId'</span>: <span style=\"color: #008000; text-decoration-color: #008000\">'35988006-30c3-5c42-9d83-df1a58564c79'</span>, <span style=\"color: #008000; text-decoration-color: #008000\">'HTTPStatusCode'</span>: <span style=\"color: #008080; text-decoration-color: #008080; font-weight: bold\">200</span>, <span style=\"color: #008000; text-decoration-color: #008000\">'HTTPHeaders'</span>: <span style=\"font-weight: bold\">{</span><span style=\"color: #008000; text-decoration-color: #008000\">'x-amzn-requestid'</span>: \n",
       "<span style=\"color: #008000; text-decoration-color: #008000\">'35988006-30c3-5c42-9d83-df1a58564c79'</span>, <span style=\"color: #008000; text-decoration-color: #008000\">'date'</span>: <span style=\"color: #008000; text-decoration-color: #008000\">'Thu, 25 Jul 2024 14:51:01 GMT'</span>, <span style=\"color: #008000; text-decoration-color: #008000\">'content-type'</span>: <span style=\"color: #008000; text-decoration-color: #008000\">'text/xml'</span>, \n",
       "<span style=\"color: #008000; text-decoration-color: #008000\">'content-length'</span>: <span style=\"color: #008000; text-decoration-color: #008000\">'318'</span>, <span style=\"color: #008000; text-decoration-color: #008000\">'connection'</span>: <span style=\"color: #008000; text-decoration-color: #008000\">'keep-alive'</span><span style=\"font-weight: bold\">}</span>, <span style=\"color: #008000; text-decoration-color: #008000\">'RetryAttempts'</span>: <span style=\"color: #008080; text-decoration-color: #008080; font-weight: bold\">0</span><span style=\"font-weight: bold\">}}</span>\n",
       "</pre>\n"
      ],
      "text/plain": [
       "Created SNS topic Response: \u001b[1m{\u001b[0m\u001b[32m'TopicArn'\u001b[0m: \u001b[32m'arn:aws:sns:ap-south-1:730335491176:demo-topic'\u001b[0m, \u001b[32m'ResponseMetadata'\u001b[0m: \n",
       "\u001b[1m{\u001b[0m\u001b[32m'RequestId'\u001b[0m: \u001b[32m'35988006-30c3-5c42-9d83-df1a58564c79'\u001b[0m, \u001b[32m'HTTPStatusCode'\u001b[0m: \u001b[1;36m200\u001b[0m, \u001b[32m'HTTPHeaders'\u001b[0m: \u001b[1m{\u001b[0m\u001b[32m'x-amzn-requestid'\u001b[0m: \n",
       "\u001b[32m'35988006-30c3-5c42-9d83-df1a58564c79'\u001b[0m, \u001b[32m'date'\u001b[0m: \u001b[32m'Thu, 25 Jul 2024 14:51:01 GMT'\u001b[0m, \u001b[32m'content-type'\u001b[0m: \u001b[32m'text/xml'\u001b[0m, \n",
       "\u001b[32m'content-length'\u001b[0m: \u001b[32m'318'\u001b[0m, \u001b[32m'connection'\u001b[0m: \u001b[32m'keep-alive'\u001b[0m\u001b[1m}\u001b[0m, \u001b[32m'RetryAttempts'\u001b[0m: \u001b[1;36m0\u001b[0m\u001b[1m}\u001b[0m\u001b[1m}\u001b[0m\n"
      ]
     },
     "metadata": {},
     "output_type": "display_data"
    }
   ],
   "source": [
    "latency_alarm_name = \"DEMO-FilesAPI-Latency-Alarm\"\n",
    "errors_4xx_alarm_name = \"DEMO-FilesAPI-4xx-Errors-Alarm\"\n",
    "errors_5xx_alarm_name = \"DEMO-FilesAPI-5xx-Errors-Alarm\"\n",
    "\n",
    "sns_topic_arn = create_sns_topic(demo_topic_name)\n",
    "\n",
    "create_latency_alarm(alarm_name=latency_alarm_name, sns_topic_arn=sns_topic_arn)\n",
    "create_4xx_errors_alarm(alarm_name=errors_4xx_alarm_name, sns_topic_arn=sns_topic_arn)\n",
    "create_5xx_errors_alarm(alarm_name=errors_5xx_alarm_name, sns_topic_arn=sns_topic_arn)"
   ]
  },
  {
   "cell_type": "markdown",
   "metadata": {},
   "source": [
    "<p align=\"center\">\n",
    "  <img src=\"../assets/sns-demo.png\" alt=\"SNS Topic Created\" />\n",
    "  <br />\n",
    "  <em>SNS Topic Created</em>\n",
    "</p>\n",
    "\n",
    "<p align=\"center\">\n",
    "  <img src=\"../assets/alarms_demo.png\" alt=\"Alarms Created\" />\n",
    "  <br />\n",
    "  <em>Alarms Created</em>\n",
    "</p>\n"
   ]
  },
  {
   "cell_type": "code",
   "execution_count": null,
   "metadata": {},
   "outputs": [],
   "source": []
  }
 ],
 "metadata": {
  "kernelspec": {
   "display_name": ".venv",
   "language": "python",
   "name": "python3"
  },
  "language_info": {
   "codemirror_mode": {
    "name": "ipython",
    "version": 3
   },
   "file_extension": ".py",
   "mimetype": "text/x-python",
   "name": "python",
   "nbconvert_exporter": "python",
   "pygments_lexer": "ipython3",
   "version": "3.11.9"
  }
 },
 "nbformat": 4,
 "nbformat_minor": 2
}
