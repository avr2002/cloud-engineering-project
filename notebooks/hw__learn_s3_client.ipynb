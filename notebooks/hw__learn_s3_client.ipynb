{
 "cells": [
  {
   "cell_type": "markdown",
   "metadata": {},
   "source": [
    "# AWS S3 Operations using Boto3\n",
    "\n",
    "In this notebook, we will perform several operations on AWS S3 using Boto3. \n",
    "\n",
    "These operations include:\n",
    "\n",
    "- creating an S3 bucket\n",
    "- writing an object\n",
    "- listing objects\n",
    "- reading the contents of an object\n",
    "- deleting an object\n",
    "- updating an object\n",
    "- and handling errors for non-existent objects. \n",
    "  \n",
    "We will also demonstrate how to write files with different prefixes and query files by prefix.\n",
    "\n",
    "## For this notebook to run...\n",
    "\n",
    "You will need to have these libraries installed\n",
    "\n",
    "- `boto3`\n",
    "- `boto3-stubs[s3]`\n",
    "- `rich`\n",
    "- `ipykernel`\n",
    "\n",
    "The recommended approach is to set up your `pyproject.toml` like so:\n",
    "\n",
    "```toml\n",
    "[project]\n",
    "...\n",
    "dependencies = ['importlib-metadata; python_version<\"3.8\"', \"boto3\"]\n",
    "\n",
    "[project.optional-dependencies]\n",
    "stubs = [\"boto3-stubs[s3]\"]\n",
    "notebooks = [\"jupyterlab\", \"ipykernel\", \"rich\"]\n",
    "...\n",
    "dev = [\"cloud-course-project[test,release,static-code-qa,stubs,notebooks]\"]\n",
    "```\n",
    "\n",
    "So that `pip install --editable './[dev]'` will install all the necessary dependencies into your venv.\n",
    "\n",
    "## Instructions for setting up autocompletion in Jupyter Notebooks in VS Code\n",
    "\n",
    "1. Install the development dependencies:\n",
    "```sh\n",
    "pip install --editable './[dev]'\n",
    "```\n",
    "2. Select the notebook kernel and point it to your virtual environment:\n",
    "```sh\n",
    "which python\n",
    "```\n",
    "3. Select the VS Code Python interpreter and point it to your virtual environment:\n",
    "```sh\n",
    "which python\n",
    "```\n",
    "4. Reload the VS Code window (`Ctrl/Cmd + Shift + P` > `Developer: Reload Window`)\n"
   ]
  },
  {
   "cell_type": "code",
   "execution_count": 1,
   "metadata": {},
   "outputs": [],
   "source": [
    "# Import necessary libraries\n",
    "import boto3\n",
    "from botocore.exceptions import ClientError\n",
    "from uuid import uuid4  # randomly generated string\n",
    "from rich import print  # pretty printing\n",
    "import os\n",
    "from typing import Optional\n",
    "\n",
    "try:\n",
    "    from mypy_boto3_s3 import S3Client\n",
    "except ImportError:\n",
    "    print(\"mypy_boto3_s3 not installed\")"
   ]
  },
  {
   "cell_type": "code",
   "execution_count": 7,
   "metadata": {},
   "outputs": [
    {
     "data": {
      "text/html": [
       "<pre style=\"white-space:pre;overflow-x:auto;line-height:normal;font-family:Menlo,'DejaVu Sans Mono',consolas,'Courier New',monospace\">AWS_REGION: ap-south-<span style=\"color: #008080; text-decoration-color: #008080; font-weight: bold\">1</span>\n",
       "</pre>\n"
      ],
      "text/plain": [
       "AWS_REGION: ap-south-\u001b[1;36m1\u001b[0m\n"
      ]
     },
     "metadata": {},
     "output_type": "display_data"
    },
    {
     "data": {
      "text/html": [
       "<pre style=\"white-space:pre;overflow-x:auto;line-height:normal;font-family:Menlo,'DejaVu Sans Mono',consolas,'Courier New',monospace\"><span style=\"color: #808000; text-decoration-color: #808000\">BUCKET_NAME</span>=<span style=\"color: #008000; text-decoration-color: #008000\">'cloud-course-bucket-1a4e'</span>\n",
       "</pre>\n"
      ],
      "text/plain": [
       "\u001b[33mBUCKET_NAME\u001b[0m=\u001b[32m'cloud-course-bucket-1a4e'\u001b[0m\n"
      ]
     },
     "metadata": {},
     "output_type": "display_data"
    },
    {
     "data": {
      "text/html": [
       "<pre style=\"white-space:pre;overflow-x:auto;line-height:normal;font-family:Menlo,'DejaVu Sans Mono',consolas,'Courier New',monospace\"><span style=\"color: #808000; text-decoration-color: #808000\">EXAMPLE_OBJECT_KEY</span>=<span style=\"color: #008000; text-decoration-color: #008000\">'example/object/file.txt'</span>\n",
       "</pre>\n"
      ],
      "text/plain": [
       "\u001b[33mEXAMPLE_OBJECT_KEY\u001b[0m=\u001b[32m'example/object/file.txt'\u001b[0m\n"
      ]
     },
     "metadata": {},
     "output_type": "display_data"
    },
    {
     "data": {
      "text/html": [
       "<pre style=\"white-space:pre;overflow-x:auto;line-height:normal;font-family:Menlo,'DejaVu Sans Mono',consolas,'Courier New',monospace\"><span style=\"color: #808000; text-decoration-color: #808000\">EXAMPLE_OBJECT_CONTENT</span>=<span style=\"color: #008000; text-decoration-color: #008000\">'This is a test object.'</span>\n",
       "</pre>\n"
      ],
      "text/plain": [
       "\u001b[33mEXAMPLE_OBJECT_CONTENT\u001b[0m=\u001b[32m'This is a test object.'\u001b[0m\n"
      ]
     },
     "metadata": {},
     "output_type": "display_data"
    }
   ],
   "source": [
    "import os\n",
    "\n",
    "# define constants\n",
    "\n",
    "# Set the profile and region for the AWS SDK (boto3) to use\n",
    "os.environ[\"AWS_PROFILE\"] = \"cloud-course\"\n",
    "os.environ[\"AWS_REGION\"] = \"ap-south-1\"\n",
    "\n",
    "# Access the AWS_REGION variable\n",
    "aws_region = os.environ.get(\"AWS_REGION\", \"us-west-2\")\n",
    "print(f\"AWS_REGION: {aws_region}\")\n",
    "\n",
    "# Create a session using the specified profile and region\n",
    "S3_CLIENT: \"S3Client\" = boto3.client(\"s3\", region_name=aws_region)\n",
    "\n",
    "BUCKET_NAME = f\"cloud-course-bucket-{str(uuid4())[:4]}\"\n",
    "\n",
    "# Single example object\n",
    "EXAMPLE_OBJECT_KEY = \"example/object/file.txt\"\n",
    "EXAMPLE_OBJECT_CONTENT = \"This is a test object.\"\n",
    "\n",
    "# Multiple example objects\n",
    "EXAMPLE_OBJECTS = [\n",
    "    (\"example-a/object/file1.txt\", \"This is a test object.\"),\n",
    "    (\"example-a/object/file2.txt\", \"This is another test object.\"),\n",
    "    (\"example-a/object/file3.txt\", \"This is yet another test object.\"),\n",
    "    (\"example-b/object/file1.txt\", \"This is a test object.\"),\n",
    "    (\"example-b/object/file2.txt\", \"This is another test object.\"),\n",
    "    (\"example-b/object/file3.txt\", \"This is yet another test object.\"),\n",
    "]\n",
    "\n",
    "print(f\"{BUCKET_NAME=}\")\n",
    "print(f\"{EXAMPLE_OBJECT_KEY=}\")\n",
    "print(f\"{EXAMPLE_OBJECT_CONTENT=}\")"
   ]
  },
  {
   "cell_type": "markdown",
   "metadata": {},
   "source": [
    "## Create a bucket\n",
    "\n",
    "Here, we create an S3 bucket. Anything you can do in the AWS console, you can do programatically!\n",
    "\n",
    "* **\n",
    "\n",
    "Fix for below error:\n",
    "\n",
    "```bash\n",
    "ClientError: An error occurred (IllegalLocationConstraintException) when calling the CreateBucket operation: The unspecified location constraint is incompatible for the region specific endpoint this request was sent to.\n",
    "```\n",
    "\n",
    "- [StackOverflow](https://stackoverflow.com/questions/49174673/aws-s3api-create-bucket-bucket-make-exception)\n",
    "\n",
    "- [AWS repost](https://repost.aws/questions/QUKgr9fG6fSimVSUqK9fvkwQ/illegallocationconstraintexception-error-when-using-s3-create-bucket-code)\n",
    "\n",
    "- [GitHub Discussion](https://github.com/aws/aws-cli/issues/2603)\n",
    "\n",
    "- Offical Docs: [S3 / Client / create_bucket](https://boto3.amazonaws.com/v1/documentation/api/latest/reference/services/s3/client/create_bucket.html)\n",
    "  - See under \"Request Syntax\" section"
   ]
  },
  {
   "cell_type": "code",
   "execution_count": 8,
   "metadata": {},
   "outputs": [
    {
     "data": {
      "text/html": [
       "<pre style=\"white-space:pre;overflow-x:auto;line-height:normal;font-family:Menlo,'DejaVu Sans Mono',consolas,'Courier New',monospace\">Bucket <span style=\"color: #008000; text-decoration-color: #008000\">'cloud-course-bucket-1a4e'</span> created successfully.\n",
       "</pre>\n"
      ],
      "text/plain": [
       "Bucket \u001b[32m'cloud-course-bucket-1a4e'\u001b[0m created successfully.\n"
      ]
     },
     "metadata": {},
     "output_type": "display_data"
    },
    {
     "data": {
      "text/html": [
       "<pre style=\"white-space:pre;overflow-x:auto;line-height:normal;font-family:Menlo,'DejaVu Sans Mono',consolas,'Courier New',monospace\"><span style=\"font-weight: bold\">{</span>\n",
       "    <span style=\"color: #008000; text-decoration-color: #008000\">'ResponseMetadata'</span>: <span style=\"font-weight: bold\">{</span>\n",
       "        <span style=\"color: #008000; text-decoration-color: #008000\">'RequestId'</span>: <span style=\"color: #008000; text-decoration-color: #008000\">'V9DH6VJZKTT8DXSX'</span>,\n",
       "        <span style=\"color: #008000; text-decoration-color: #008000\">'HostId'</span>: <span style=\"color: #008000; text-decoration-color: #008000\">'ElJ0v1+OtY3798VgD4d0ZzdEq9A6kkikpqirKUT4tPovjPrHxualqeUgDYSxpMM6s94b4g9kU5Nio2i5v0rj2w=='</span>,\n",
       "        <span style=\"color: #008000; text-decoration-color: #008000\">'HTTPStatusCode'</span>: <span style=\"color: #008080; text-decoration-color: #008080; font-weight: bold\">200</span>,\n",
       "        <span style=\"color: #008000; text-decoration-color: #008000\">'HTTPHeaders'</span>: <span style=\"font-weight: bold\">{</span>\n",
       "            <span style=\"color: #008000; text-decoration-color: #008000\">'x-amz-id-2'</span>: \n",
       "<span style=\"color: #008000; text-decoration-color: #008000\">'ElJ0v1+OtY3798VgD4d0ZzdEq9A6kkikpqirKUT4tPovjPrHxualqeUgDYSxpMM6s94b4g9kU5Nio2i5v0rj2w=='</span>,\n",
       "            <span style=\"color: #008000; text-decoration-color: #008000\">'x-amz-request-id'</span>: <span style=\"color: #008000; text-decoration-color: #008000\">'V9DH6VJZKTT8DXSX'</span>,\n",
       "            <span style=\"color: #008000; text-decoration-color: #008000\">'date'</span>: <span style=\"color: #008000; text-decoration-color: #008000\">'Fri, 07 Jun 2024 09:04:52 GMT'</span>,\n",
       "            <span style=\"color: #008000; text-decoration-color: #008000\">'location'</span>: <span style=\"color: #008000; text-decoration-color: #008000\">'http://cloud-course-bucket-1a4e.s3.amazonaws.com/'</span>,\n",
       "            <span style=\"color: #008000; text-decoration-color: #008000\">'server'</span>: <span style=\"color: #008000; text-decoration-color: #008000\">'AmazonS3'</span>,\n",
       "            <span style=\"color: #008000; text-decoration-color: #008000\">'content-length'</span>: <span style=\"color: #008000; text-decoration-color: #008000\">'0'</span>\n",
       "        <span style=\"font-weight: bold\">}</span>,\n",
       "        <span style=\"color: #008000; text-decoration-color: #008000\">'RetryAttempts'</span>: <span style=\"color: #008080; text-decoration-color: #008080; font-weight: bold\">0</span>\n",
       "    <span style=\"font-weight: bold\">}</span>,\n",
       "    <span style=\"color: #008000; text-decoration-color: #008000\">'Location'</span>: <span style=\"color: #008000; text-decoration-color: #008000\">'http://cloud-course-bucket-1a4e.s3.amazonaws.com/'</span>\n",
       "<span style=\"font-weight: bold\">}</span>\n",
       "</pre>\n"
      ],
      "text/plain": [
       "\u001b[1m{\u001b[0m\n",
       "    \u001b[32m'ResponseMetadata'\u001b[0m: \u001b[1m{\u001b[0m\n",
       "        \u001b[32m'RequestId'\u001b[0m: \u001b[32m'V9DH6VJZKTT8DXSX'\u001b[0m,\n",
       "        \u001b[32m'HostId'\u001b[0m: \u001b[32m'ElJ0v1+OtY3798VgD4d0ZzdEq9A6kkikpqir\u001b[0m\u001b[32mKUT4tPovjPrHxualqeUgDYSxpMM6s94b4g9kU5Nio2i5v0rj2w\u001b[0m\u001b[32m=='\u001b[0m,\n",
       "        \u001b[32m'HTTPStatusCode'\u001b[0m: \u001b[1;36m200\u001b[0m,\n",
       "        \u001b[32m'HTTPHeaders'\u001b[0m: \u001b[1m{\u001b[0m\n",
       "            \u001b[32m'x-amz-id-2'\u001b[0m: \n",
       "\u001b[32m'ElJ0v1+OtY3798VgD4d0ZzdEq9A6kkikpqir\u001b[0m\u001b[32mKUT4tPovjPrHxualqeUgDYSxpMM6s94b4g9kU5Nio2i5v0rj2w\u001b[0m\u001b[32m=='\u001b[0m,\n",
       "            \u001b[32m'x-amz-request-id'\u001b[0m: \u001b[32m'V9DH6VJZKTT8DXSX'\u001b[0m,\n",
       "            \u001b[32m'date'\u001b[0m: \u001b[32m'Fri, 07 Jun 2024 09:04:52 GMT'\u001b[0m,\n",
       "            \u001b[32m'location'\u001b[0m: \u001b[32m'http://cloud-course-bucket-1a4e.s3.amazonaws.com/'\u001b[0m,\n",
       "            \u001b[32m'server'\u001b[0m: \u001b[32m'AmazonS3'\u001b[0m,\n",
       "            \u001b[32m'content-length'\u001b[0m: \u001b[32m'0'\u001b[0m\n",
       "        \u001b[1m}\u001b[0m,\n",
       "        \u001b[32m'RetryAttempts'\u001b[0m: \u001b[1;36m0\u001b[0m\n",
       "    \u001b[1m}\u001b[0m,\n",
       "    \u001b[32m'Location'\u001b[0m: \u001b[32m'http://cloud-course-bucket-1a4e.s3.amazonaws.com/'\u001b[0m\n",
       "\u001b[1m}\u001b[0m\n"
      ]
     },
     "metadata": {},
     "output_type": "display_data"
    }
   ],
   "source": [
    "try:\n",
    "    from mypy_boto3_s3.type_defs import CreateBucketOutputTypeDef\n",
    "except ImportError:\n",
    "    print(\"boto3-stubs[s3] not installed\")\n",
    "\n",
    "\n",
    "def create_bucket(bucket_name: str) -> Optional[\"CreateBucketOutputTypeDef\"]:\n",
    "    \"\"\"\n",
    "    Create an S3 bucket.\n",
    "\n",
    "    :param bucket_name: Name of the bucket to create\n",
    "    :type bucket_name: str\n",
    "    \"\"\"\n",
    "    try:\n",
    "        response = S3_CLIENT.create_bucket(\n",
    "            Bucket=bucket_name,\n",
    "            CreateBucketConfiguration={\"LocationConstraint\": aws_region},\n",
    "        )\n",
    "    except ClientError as e:\n",
    "        print(f\"An error occurred: {e}\")\n",
    "        return None\n",
    "\n",
    "    return response\n",
    "\n",
    "\n",
    "# Create the bucket\n",
    "response = create_bucket(bucket_name=BUCKET_NAME)\n",
    "print(f\"Bucket '{BUCKET_NAME}' created successfully.\")\n",
    "print(response)"
   ]
  },
  {
   "cell_type": "markdown",
   "metadata": {},
   "source": [
    "## Write an object to the bucket\n",
    "\n",
    "In this exercise, you will write an object to the S3 bucket.\n",
    "\n",
    "\"S3 Paths\" are URLs of the form `s3://bucket-name/key`, called URI. The `key` is the path to the object in the bucket. For example, `s3://my-bucket-name/my-key` refers to the object with key `my-key` in the bucket `my-bucket-name`.\n",
    "\n",
    "Some examples:\n",
    "\n",
    "| Path | Bucket | Object Key |\n",
    "| --- | --- | --- |\n",
    "| `s3://my-bucket/images/profile.jpeg` | `my-bucket` | `images/profile.jpeg` |\n",
    "| `s3://my-bucket/data/2021/01/01/data.csv` | `my-bucket` | `data/2021/01/01/data.csv` |\n",
    "| `s3://my-bucket/file.json` | `my-bucket` | `file.json` |\n"
   ]
  },
  {
   "cell_type": "code",
   "execution_count": 9,
   "metadata": {},
   "outputs": [
    {
     "data": {
      "text/html": [
       "<pre style=\"white-space:pre;overflow-x:auto;line-height:normal;font-family:Menlo,'DejaVu Sans Mono',consolas,'Courier New',monospace\"><span style=\"font-weight: bold\">{</span>\n",
       "    <span style=\"color: #008000; text-decoration-color: #008000\">'ResponseMetadata'</span>: <span style=\"font-weight: bold\">{</span>\n",
       "        <span style=\"color: #008000; text-decoration-color: #008000\">'RequestId'</span>: <span style=\"color: #008000; text-decoration-color: #008000\">'MMAAFZVBER156GKX'</span>,\n",
       "        <span style=\"color: #008000; text-decoration-color: #008000\">'HostId'</span>: <span style=\"color: #008000; text-decoration-color: #008000\">'NGofBskUm0GiFK7tJ/WLxTWSoFkeOwVLgBVHYUSzI4NqLhm/8M6OzBzt1iUIF+/XnsNGgOp5ifE='</span>,\n",
       "        <span style=\"color: #008000; text-decoration-color: #008000\">'HTTPStatusCode'</span>: <span style=\"color: #008080; text-decoration-color: #008080; font-weight: bold\">200</span>,\n",
       "        <span style=\"color: #008000; text-decoration-color: #008000\">'HTTPHeaders'</span>: <span style=\"font-weight: bold\">{</span>\n",
       "            <span style=\"color: #008000; text-decoration-color: #008000\">'x-amz-id-2'</span>: <span style=\"color: #008000; text-decoration-color: #008000\">'NGofBskUm0GiFK7tJ/WLxTWSoFkeOwVLgBVHYUSzI4NqLhm/8M6OzBzt1iUIF+/XnsNGgOp5ifE='</span>,\n",
       "            <span style=\"color: #008000; text-decoration-color: #008000\">'x-amz-request-id'</span>: <span style=\"color: #008000; text-decoration-color: #008000\">'MMAAFZVBER156GKX'</span>,\n",
       "            <span style=\"color: #008000; text-decoration-color: #008000\">'date'</span>: <span style=\"color: #008000; text-decoration-color: #008000\">'Fri, 07 Jun 2024 09:07:22 GMT'</span>,\n",
       "            <span style=\"color: #008000; text-decoration-color: #008000\">'x-amz-server-side-encryption'</span>: <span style=\"color: #008000; text-decoration-color: #008000\">'AES256'</span>,\n",
       "            <span style=\"color: #008000; text-decoration-color: #008000\">'etag'</span>: <span style=\"color: #008000; text-decoration-color: #008000\">'\"fac2cbcd7b7417c0325922b689019c65\"'</span>,\n",
       "            <span style=\"color: #008000; text-decoration-color: #008000\">'server'</span>: <span style=\"color: #008000; text-decoration-color: #008000\">'AmazonS3'</span>,\n",
       "            <span style=\"color: #008000; text-decoration-color: #008000\">'content-length'</span>: <span style=\"color: #008000; text-decoration-color: #008000\">'0'</span>\n",
       "        <span style=\"font-weight: bold\">}</span>,\n",
       "        <span style=\"color: #008000; text-decoration-color: #008000\">'RetryAttempts'</span>: <span style=\"color: #008080; text-decoration-color: #008080; font-weight: bold\">0</span>\n",
       "    <span style=\"font-weight: bold\">}</span>,\n",
       "    <span style=\"color: #008000; text-decoration-color: #008000\">'ETag'</span>: <span style=\"color: #008000; text-decoration-color: #008000\">'\"fac2cbcd7b7417c0325922b689019c65\"'</span>,\n",
       "    <span style=\"color: #008000; text-decoration-color: #008000\">'ServerSideEncryption'</span>: <span style=\"color: #008000; text-decoration-color: #008000\">'AES256'</span>\n",
       "<span style=\"font-weight: bold\">}</span>\n",
       "</pre>\n"
      ],
      "text/plain": [
       "\u001b[1m{\u001b[0m\n",
       "    \u001b[32m'ResponseMetadata'\u001b[0m: \u001b[1m{\u001b[0m\n",
       "        \u001b[32m'RequestId'\u001b[0m: \u001b[32m'MMAAFZVBER156GKX'\u001b[0m,\n",
       "        \u001b[32m'HostId'\u001b[0m: \u001b[32m'NGofBskUm0GiFK7tJ/WLxTWSoFkeOwVLgBVHYUSzI4NqLhm/8M6OzBzt1iUIF+/\u001b[0m\u001b[32mXnsNGgOp5ifE\u001b[0m\u001b[32m='\u001b[0m,\n",
       "        \u001b[32m'HTTPStatusCode'\u001b[0m: \u001b[1;36m200\u001b[0m,\n",
       "        \u001b[32m'HTTPHeaders'\u001b[0m: \u001b[1m{\u001b[0m\n",
       "            \u001b[32m'x-amz-id-2'\u001b[0m: \u001b[32m'NGofBskUm0GiFK7tJ/WLxTWSoFkeOwVLgBVHYUSzI4NqLhm/8M6OzBzt1iUIF+/\u001b[0m\u001b[32mXnsNGgOp5ifE\u001b[0m\u001b[32m='\u001b[0m,\n",
       "            \u001b[32m'x-amz-request-id'\u001b[0m: \u001b[32m'MMAAFZVBER156GKX'\u001b[0m,\n",
       "            \u001b[32m'date'\u001b[0m: \u001b[32m'Fri, 07 Jun 2024 09:07:22 GMT'\u001b[0m,\n",
       "            \u001b[32m'x-amz-server-side-encryption'\u001b[0m: \u001b[32m'AES256'\u001b[0m,\n",
       "            \u001b[32m'etag'\u001b[0m: \u001b[32m'\"fac2cbcd7b7417c0325922b689019c65\"'\u001b[0m,\n",
       "            \u001b[32m'server'\u001b[0m: \u001b[32m'AmazonS3'\u001b[0m,\n",
       "            \u001b[32m'content-length'\u001b[0m: \u001b[32m'0'\u001b[0m\n",
       "        \u001b[1m}\u001b[0m,\n",
       "        \u001b[32m'RetryAttempts'\u001b[0m: \u001b[1;36m0\u001b[0m\n",
       "    \u001b[1m}\u001b[0m,\n",
       "    \u001b[32m'ETag'\u001b[0m: \u001b[32m'\"fac2cbcd7b7417c0325922b689019c65\"'\u001b[0m,\n",
       "    \u001b[32m'ServerSideEncryption'\u001b[0m: \u001b[32m'AES256'\u001b[0m\n",
       "\u001b[1m}\u001b[0m\n"
      ]
     },
     "metadata": {},
     "output_type": "display_data"
    },
    {
     "data": {
      "text/html": [
       "<pre style=\"white-space:pre;overflow-x:auto;line-height:normal;font-family:Menlo,'DejaVu Sans Mono',consolas,'Courier New',monospace\">Writing object to path <span style=\"color: #008000; text-decoration-color: #008000\">'s3://cloud-course-bucket-1a4e/example-a/object/file1.txt'</span>\n",
       "</pre>\n"
      ],
      "text/plain": [
       "Writing object to path \u001b[32m's3://cloud-course-bucket-1a4e/example-a/object/file1.txt'\u001b[0m\n"
      ]
     },
     "metadata": {},
     "output_type": "display_data"
    },
    {
     "data": {
      "text/html": [
       "<pre style=\"white-space:pre;overflow-x:auto;line-height:normal;font-family:Menlo,'DejaVu Sans Mono',consolas,'Courier New',monospace\">Writing object to path <span style=\"color: #008000; text-decoration-color: #008000\">'s3://cloud-course-bucket-1a4e/example-a/object/file2.txt'</span>\n",
       "</pre>\n"
      ],
      "text/plain": [
       "Writing object to path \u001b[32m's3://cloud-course-bucket-1a4e/example-a/object/file2.txt'\u001b[0m\n"
      ]
     },
     "metadata": {},
     "output_type": "display_data"
    },
    {
     "data": {
      "text/html": [
       "<pre style=\"white-space:pre;overflow-x:auto;line-height:normal;font-family:Menlo,'DejaVu Sans Mono',consolas,'Courier New',monospace\">Writing object to path <span style=\"color: #008000; text-decoration-color: #008000\">'s3://cloud-course-bucket-1a4e/example-a/object/file3.txt'</span>\n",
       "</pre>\n"
      ],
      "text/plain": [
       "Writing object to path \u001b[32m's3://cloud-course-bucket-1a4e/example-a/object/file3.txt'\u001b[0m\n"
      ]
     },
     "metadata": {},
     "output_type": "display_data"
    },
    {
     "data": {
      "text/html": [
       "<pre style=\"white-space:pre;overflow-x:auto;line-height:normal;font-family:Menlo,'DejaVu Sans Mono',consolas,'Courier New',monospace\">Writing object to path <span style=\"color: #008000; text-decoration-color: #008000\">'s3://cloud-course-bucket-1a4e/example-b/object/file1.txt'</span>\n",
       "</pre>\n"
      ],
      "text/plain": [
       "Writing object to path \u001b[32m's3://cloud-course-bucket-1a4e/example-b/object/file1.txt'\u001b[0m\n"
      ]
     },
     "metadata": {},
     "output_type": "display_data"
    },
    {
     "data": {
      "text/html": [
       "<pre style=\"white-space:pre;overflow-x:auto;line-height:normal;font-family:Menlo,'DejaVu Sans Mono',consolas,'Courier New',monospace\">Writing object to path <span style=\"color: #008000; text-decoration-color: #008000\">'s3://cloud-course-bucket-1a4e/example-b/object/file2.txt'</span>\n",
       "</pre>\n"
      ],
      "text/plain": [
       "Writing object to path \u001b[32m's3://cloud-course-bucket-1a4e/example-b/object/file2.txt'\u001b[0m\n"
      ]
     },
     "metadata": {},
     "output_type": "display_data"
    },
    {
     "data": {
      "text/html": [
       "<pre style=\"white-space:pre;overflow-x:auto;line-height:normal;font-family:Menlo,'DejaVu Sans Mono',consolas,'Courier New',monospace\">Writing object to path <span style=\"color: #008000; text-decoration-color: #008000\">'s3://cloud-course-bucket-1a4e/example-b/object/file3.txt'</span>\n",
       "</pre>\n"
      ],
      "text/plain": [
       "Writing object to path \u001b[32m's3://cloud-course-bucket-1a4e/example-b/object/file3.txt'\u001b[0m\n"
      ]
     },
     "metadata": {},
     "output_type": "display_data"
    }
   ],
   "source": [
    "try:\n",
    "    from mypy_boto3_s3.type_defs import PutObjectOutputTypeDef\n",
    "except ImportError:\n",
    "    print(\"boto3-stubs[s3] not installed\")\n",
    "\n",
    "\n",
    "def write_text_object_to_s3(\n",
    "    bucket_name: str,\n",
    "    object_key: str,\n",
    "    object_content: str,\n",
    ") -> Optional[\"PutObjectOutputTypeDef\"]:\n",
    "    \"\"\"\n",
    "    Write an object to an S3 bucket.\n",
    "\n",
    "    :param bucket_name: Name of the bucket to write to\n",
    "    :param object_key: Key of the object to write\n",
    "    :param object_content: Content of the object to write\n",
    "    :return: Response from the put_object call\n",
    "    \"\"\"\n",
    "    response = S3_CLIENT.put_object(Bucket=bucket_name, Key=object_key, Body=object_content)\n",
    "    return response\n",
    "\n",
    "\n",
    "# Write the single example to S3\n",
    "response = write_text_object_to_s3(\n",
    "    bucket_name=BUCKET_NAME,\n",
    "    object_key=EXAMPLE_OBJECT_KEY,\n",
    "    object_content=EXAMPLE_OBJECT_CONTENT,\n",
    ")\n",
    "print(response)\n",
    "\n",
    "# Write the rest of the examples to S3\n",
    "for object_key, object_content in EXAMPLE_OBJECTS:\n",
    "    print(f\"Writing object to path 's3://{BUCKET_NAME}/{object_key}'\")\n",
    "    write_text_object_to_s3(\n",
    "        bucket_name=BUCKET_NAME,\n",
    "        object_key=object_key,\n",
    "        object_content=object_content,\n",
    "    )"
   ]
  },
  {
   "cell_type": "markdown",
   "metadata": {},
   "source": [
    "## Read the content of an object\n",
    "\n",
    "In this exercise, you will read the content of an object from the S3 bucket."
   ]
  },
  {
   "cell_type": "code",
   "execution_count": 10,
   "metadata": {},
   "outputs": [
    {
     "data": {
      "text/html": [
       "<pre style=\"white-space:pre;overflow-x:auto;line-height:normal;font-family:Menlo,'DejaVu Sans Mono',consolas,'Courier New',monospace\">Content of object <span style=\"color: #008000; text-decoration-color: #008000\">'example/object/file.txt'</span>:\n",
       "<span style=\"color: #008000; text-decoration-color: #008000\">'This is a test object.'</span>\n",
       "</pre>\n"
      ],
      "text/plain": [
       "Content of object \u001b[32m'example/object/file.txt'\u001b[0m:\n",
       "\u001b[32m'This is a test object.'\u001b[0m\n"
      ]
     },
     "metadata": {},
     "output_type": "display_data"
    }
   ],
   "source": [
    "from botocore.response import StreamingBody\n",
    "\n",
    "\n",
    "# S3 is a blob store, so we need to read the content of the object as a bytestream\n",
    "# and then interpret the bytes as text. This function reads the content of an object\n",
    "\n",
    "\n",
    "def read_text_object_from_s3(bucket_name: str, object_key: str, verbose: bool = False) -> str | None:\n",
    "    \"\"\"\n",
    "    Read the content of an object from an S3 bucket.\n",
    "\n",
    "    :param bucket_name: Name of the bucket to read from\n",
    "    :param object_key: Key of the object to read\n",
    "    :return: Content of the object\n",
    "    \"\"\"\n",
    "    response = S3_CLIENT.get_object(Bucket=bucket_name, Key=object_key)\n",
    "\n",
    "    # Note, we need to read the bytestream from the blob and choose how we wish\n",
    "    # to interpret the bytes. In this case, we interpret them as utf-8 encoded text.\n",
    "    content_streaming_body: StreamingBody = response[\"Body\"]\n",
    "    content: str = content_streaming_body.read().decode(\"utf-8\")\n",
    "    return content\n",
    "\n",
    "\n",
    "# Read the content of the example object\n",
    "content = read_text_object_from_s3(BUCKET_NAME, EXAMPLE_OBJECT_KEY)\n",
    "if content:\n",
    "    print(f\"Content of object '{EXAMPLE_OBJECT_KEY}':\\n'{content}'\")"
   ]
  },
  {
   "cell_type": "code",
   "execution_count": null,
   "metadata": {},
   "outputs": [],
   "source": [
    "# S3 is a blob storage, which means that S3 is key-value object/blob storage service.\n",
    "# Meaning that keys maps to big blobs(bytes) of data.\n",
    "\n",
    "# And since it is a key-value store, that is why folders are not a thing in S3. They are just prefixes in the keys.\n",
    "# For example, if you have a key like `folder1/folder2/file.txt`, then `folder1` and `folder2` are just prefixes in the key.\n",
    "\n",
    "# For example, if you want to rename a folder in S3, you would have to iterate over every single object that looks like a folder\n",
    "# and move that object from it's original location to the new location.\n",
    "\n",
    "# And if you want to delete a folder in S3,\n",
    "# you would have to copy all the objects in that folder to a new folder and then delete the old folder."
   ]
  },
  {
   "cell_type": "markdown",
   "metadata": {},
   "source": [
    "## Exercise #1 - List objects in the bucket\n",
    "\n",
    "What if there were more than 1,000 objects in the bucket? How would you list all of them?\n",
    "\n",
    "Hints\n",
    "- Look into [\"boto3 paginators\"](https://boto3.amazonaws.com/v1/documentation/api/latest/guide/paginators.html#creating-paginators)\n",
    "- OR Look into the [boto3 \"resource API\"](https://boto3.amazonaws.com/v1/documentation/api/latest/guide/resources.html#resources), a powerful, but potentially less performant, object-oriented way\n",
    "  of interacting with AWS resources via boto3\n",
    "- OR consider using \"Continuation Tokens\" with the `list_objects_v2` method.\n",
    "\n",
    "\n",
    "* **\n",
    "\n",
    "- [Creating paginators](https://boto3.amazonaws.com/v1/documentation/api/latest/guide/paginators.html#creating-paginators)\n",
    "\n",
    "- [Paginators boto3-stubs](https://youtype.github.io/boto3_stubs_docs/mypy_boto3_s3/paginators/#listdirectorybucketspaginator)\n",
    "\n",
    "- Difference b/w [`S3.Client.list_objects`](https://boto3.amazonaws.com/v1/documentation/api/latest/reference/services/s3/client/list_objects.html) and [`S3.Client.list_objects_v2`](https://boto3.amazonaws.com/v1/documentation/api/latest/reference/services/s3/client/list_objects_v2.html):\n",
    "\n",
    "  - [StackOverflow](https://stackoverflow.com/questions/37534077/what-is-the-difference-between-boto3-list-objects-and-list-objects-v2)"
   ]
  },
  {
   "cell_type": "code",
   "execution_count": 35,
   "metadata": {},
   "outputs": [],
   "source": [
    "try:\n",
    "    from mypy_boto3_s3.type_defs import ListObjectsV2OutputTypeDef, ListObjectsOutputTypeDef\n",
    "    from mypy_boto3_s3.paginator import _PageIterator, ListObjectsV2Paginator\n",
    "except ImportError:\n",
    "    print(\"boto3-stubs[s3] not installed\")\n",
    "\n",
    "\n",
    "def list_all_object_keys_in_bucket(bucket_name: str) -> list[str]:\n",
    "    \"\"\"\n",
    "    List all objects in an S3 bucket.\n",
    "\n",
    "    :param bucket_name: Name of the bucket to list objects from\n",
    "    :return: List of object keys\n",
    "    \"\"\"\n",
    "    # respone: ListObjectsOutputTypeDef = S3_CLIENT.list_objects(Bucket=bucket_name)\n",
    "    # return respone\n",
    "\n",
    "    # Create a reusable Paginator\n",
    "    paginator: ListObjectsV2Paginator = S3_CLIENT.get_paginator(\"list_objects_v2\")\n",
    "\n",
    "    # Create a PageIterator from the Paginator\n",
    "    page_iterator: _PageIterator[ListObjectsV2OutputTypeDef] = paginator.paginate(Bucket=bucket_name)\n",
    "\n",
    "    object_keys: list[str] = []\n",
    "\n",
    "    for page in page_iterator:\n",
    "        for content in page.get(\"Contents\", []):\n",
    "            object_keys.append(content.get(\"Key\"))\n",
    "\n",
    "    return object_keys"
   ]
  },
  {
   "cell_type": "code",
   "execution_count": 13,
   "metadata": {},
   "outputs": [],
   "source": [
    "# resp = list_all_object_keys_in_bucket(BUCKET_NAME)\n",
    "# resp.keys()\n",
    "# resp[\"Contents\"]\n",
    "# resp[\"ResponseMetadata\"]"
   ]
  },
  {
   "cell_type": "code",
   "execution_count": 34,
   "metadata": {},
   "outputs": [
    {
     "data": {
      "text/html": [
       "<pre style=\"white-space:pre;overflow-x:auto;line-height:normal;font-family:Menlo,'DejaVu Sans Mono',consolas,'Courier New',monospace\">Objects in bucket:\n",
       "</pre>\n"
      ],
      "text/plain": [
       "Objects in bucket:\n"
      ]
     },
     "metadata": {},
     "output_type": "display_data"
    },
    {
     "data": {
      "text/html": [
       "<pre style=\"white-space:pre;overflow-x:auto;line-height:normal;font-family:Menlo,'DejaVu Sans Mono',consolas,'Courier New',monospace\"> - example-a/object/file1.txt\n",
       "</pre>\n"
      ],
      "text/plain": [
       " - example-a/object/file1.txt\n"
      ]
     },
     "metadata": {},
     "output_type": "display_data"
    },
    {
     "data": {
      "text/html": [
       "<pre style=\"white-space:pre;overflow-x:auto;line-height:normal;font-family:Menlo,'DejaVu Sans Mono',consolas,'Courier New',monospace\"> - example-a/object/file2.txt\n",
       "</pre>\n"
      ],
      "text/plain": [
       " - example-a/object/file2.txt\n"
      ]
     },
     "metadata": {},
     "output_type": "display_data"
    },
    {
     "data": {
      "text/html": [
       "<pre style=\"white-space:pre;overflow-x:auto;line-height:normal;font-family:Menlo,'DejaVu Sans Mono',consolas,'Courier New',monospace\"> - example-a/object/file3.txt\n",
       "</pre>\n"
      ],
      "text/plain": [
       " - example-a/object/file3.txt\n"
      ]
     },
     "metadata": {},
     "output_type": "display_data"
    },
    {
     "data": {
      "text/html": [
       "<pre style=\"white-space:pre;overflow-x:auto;line-height:normal;font-family:Menlo,'DejaVu Sans Mono',consolas,'Courier New',monospace\"> - example-b/object/file1.txt\n",
       "</pre>\n"
      ],
      "text/plain": [
       " - example-b/object/file1.txt\n"
      ]
     },
     "metadata": {},
     "output_type": "display_data"
    },
    {
     "data": {
      "text/html": [
       "<pre style=\"white-space:pre;overflow-x:auto;line-height:normal;font-family:Menlo,'DejaVu Sans Mono',consolas,'Courier New',monospace\"> - example-b/object/file2.txt\n",
       "</pre>\n"
      ],
      "text/plain": [
       " - example-b/object/file2.txt\n"
      ]
     },
     "metadata": {},
     "output_type": "display_data"
    },
    {
     "data": {
      "text/html": [
       "<pre style=\"white-space:pre;overflow-x:auto;line-height:normal;font-family:Menlo,'DejaVu Sans Mono',consolas,'Courier New',monospace\"> - example-b/object/file3.txt\n",
       "</pre>\n"
      ],
      "text/plain": [
       " - example-b/object/file3.txt\n"
      ]
     },
     "metadata": {},
     "output_type": "display_data"
    },
    {
     "data": {
      "text/html": [
       "<pre style=\"white-space:pre;overflow-x:auto;line-height:normal;font-family:Menlo,'DejaVu Sans Mono',consolas,'Courier New',monospace\"> - example/object/file.txt\n",
       "</pre>\n"
      ],
      "text/plain": [
       " - example/object/file.txt\n"
      ]
     },
     "metadata": {},
     "output_type": "display_data"
    }
   ],
   "source": [
    "# List all objects in the bucket\n",
    "objects = list_all_object_keys_in_bucket(BUCKET_NAME)\n",
    "if objects:\n",
    "    print(\"Objects in bucket:\")\n",
    "    for obj in objects:\n",
    "        print(f\" - {obj}\")"
   ]
  },
  {
   "cell_type": "markdown",
   "metadata": {},
   "source": [
    "## Exercise #2 - Update the object (overwrite with new content)\n",
    "\n",
    "In this exercise, you will update the content of an existing object in the S3 bucket."
   ]
  },
  {
   "cell_type": "code",
   "execution_count": 36,
   "metadata": {},
   "outputs": [
    {
     "data": {
      "text/html": [
       "<pre style=\"white-space:pre;overflow-x:auto;line-height:normal;font-family:Menlo,'DejaVu Sans Mono',consolas,'Courier New',monospace\">Previous content of object <span style=\"color: #008000; text-decoration-color: #008000\">'example/object/file.txt'</span>:\n",
       "This is a test object.\n",
       "</pre>\n"
      ],
      "text/plain": [
       "Previous content of object \u001b[32m'example/object/file.txt'\u001b[0m:\n",
       "This is a test object.\n"
      ]
     },
     "metadata": {},
     "output_type": "display_data"
    },
    {
     "data": {
      "text/html": [
       "<pre style=\"white-space:pre;overflow-x:auto;line-height:normal;font-family:Menlo,'DejaVu Sans Mono',consolas,'Courier New',monospace\"><span style=\"font-weight: bold\">{</span>\n",
       "    <span style=\"color: #008000; text-decoration-color: #008000\">'ResponseMetadata'</span>: <span style=\"font-weight: bold\">{</span>\n",
       "        <span style=\"color: #008000; text-decoration-color: #008000\">'RequestId'</span>: <span style=\"color: #008000; text-decoration-color: #008000\">'PDTJRWEK3R7CBS8E'</span>,\n",
       "        <span style=\"color: #008000; text-decoration-color: #008000\">'HostId'</span>: <span style=\"color: #008000; text-decoration-color: #008000\">'sj6tzNydFzl15YYqDYaYWLLcvO3Wh9C1CRfyRAg2CgzSWq/D5GpVjEoeOpQLXzCws8Qrt2kXO5s='</span>,\n",
       "        <span style=\"color: #008000; text-decoration-color: #008000\">'HTTPStatusCode'</span>: <span style=\"color: #008080; text-decoration-color: #008080; font-weight: bold\">200</span>,\n",
       "        <span style=\"color: #008000; text-decoration-color: #008000\">'HTTPHeaders'</span>: <span style=\"font-weight: bold\">{</span>\n",
       "            <span style=\"color: #008000; text-decoration-color: #008000\">'x-amz-id-2'</span>: <span style=\"color: #008000; text-decoration-color: #008000\">'sj6tzNydFzl15YYqDYaYWLLcvO3Wh9C1CRfyRAg2CgzSWq/D5GpVjEoeOpQLXzCws8Qrt2kXO5s='</span>,\n",
       "            <span style=\"color: #008000; text-decoration-color: #008000\">'x-amz-request-id'</span>: <span style=\"color: #008000; text-decoration-color: #008000\">'PDTJRWEK3R7CBS8E'</span>,\n",
       "            <span style=\"color: #008000; text-decoration-color: #008000\">'date'</span>: <span style=\"color: #008000; text-decoration-color: #008000\">'Fri, 07 Jun 2024 10:03:15 GMT'</span>,\n",
       "            <span style=\"color: #008000; text-decoration-color: #008000\">'x-amz-server-side-encryption'</span>: <span style=\"color: #008000; text-decoration-color: #008000\">'AES256'</span>,\n",
       "            <span style=\"color: #008000; text-decoration-color: #008000\">'etag'</span>: <span style=\"color: #008000; text-decoration-color: #008000\">'\"c5a01ee632fac2f88da9e0aa5a3d8cdd\"'</span>,\n",
       "            <span style=\"color: #008000; text-decoration-color: #008000\">'server'</span>: <span style=\"color: #008000; text-decoration-color: #008000\">'AmazonS3'</span>,\n",
       "            <span style=\"color: #008000; text-decoration-color: #008000\">'content-length'</span>: <span style=\"color: #008000; text-decoration-color: #008000\">'0'</span>\n",
       "        <span style=\"font-weight: bold\">}</span>,\n",
       "        <span style=\"color: #008000; text-decoration-color: #008000\">'RetryAttempts'</span>: <span style=\"color: #008080; text-decoration-color: #008080; font-weight: bold\">0</span>\n",
       "    <span style=\"font-weight: bold\">}</span>,\n",
       "    <span style=\"color: #008000; text-decoration-color: #008000\">'ETag'</span>: <span style=\"color: #008000; text-decoration-color: #008000\">'\"c5a01ee632fac2f88da9e0aa5a3d8cdd\"'</span>,\n",
       "    <span style=\"color: #008000; text-decoration-color: #008000\">'ServerSideEncryption'</span>: <span style=\"color: #008000; text-decoration-color: #008000\">'AES256'</span>\n",
       "<span style=\"font-weight: bold\">}</span>\n",
       "</pre>\n"
      ],
      "text/plain": [
       "\u001b[1m{\u001b[0m\n",
       "    \u001b[32m'ResponseMetadata'\u001b[0m: \u001b[1m{\u001b[0m\n",
       "        \u001b[32m'RequestId'\u001b[0m: \u001b[32m'PDTJRWEK3R7CBS8E'\u001b[0m,\n",
       "        \u001b[32m'HostId'\u001b[0m: \u001b[32m'sj6tzNydFzl15YYqDYaYWLLcvO3Wh9C1CRfyRAg2CgzSWq/\u001b[0m\u001b[32mD5GpVjEoeOpQLXzCws8Qrt2kXO5s\u001b[0m\u001b[32m='\u001b[0m,\n",
       "        \u001b[32m'HTTPStatusCode'\u001b[0m: \u001b[1;36m200\u001b[0m,\n",
       "        \u001b[32m'HTTPHeaders'\u001b[0m: \u001b[1m{\u001b[0m\n",
       "            \u001b[32m'x-amz-id-2'\u001b[0m: \u001b[32m'sj6tzNydFzl15YYqDYaYWLLcvO3Wh9C1CRfyRAg2CgzSWq/\u001b[0m\u001b[32mD5GpVjEoeOpQLXzCws8Qrt2kXO5s\u001b[0m\u001b[32m='\u001b[0m,\n",
       "            \u001b[32m'x-amz-request-id'\u001b[0m: \u001b[32m'PDTJRWEK3R7CBS8E'\u001b[0m,\n",
       "            \u001b[32m'date'\u001b[0m: \u001b[32m'Fri, 07 Jun 2024 10:03:15 GMT'\u001b[0m,\n",
       "            \u001b[32m'x-amz-server-side-encryption'\u001b[0m: \u001b[32m'AES256'\u001b[0m,\n",
       "            \u001b[32m'etag'\u001b[0m: \u001b[32m'\"c5a01ee632fac2f88da9e0aa5a3d8cdd\"'\u001b[0m,\n",
       "            \u001b[32m'server'\u001b[0m: \u001b[32m'AmazonS3'\u001b[0m,\n",
       "            \u001b[32m'content-length'\u001b[0m: \u001b[32m'0'\u001b[0m\n",
       "        \u001b[1m}\u001b[0m,\n",
       "        \u001b[32m'RetryAttempts'\u001b[0m: \u001b[1;36m0\u001b[0m\n",
       "    \u001b[1m}\u001b[0m,\n",
       "    \u001b[32m'ETag'\u001b[0m: \u001b[32m'\"c5a01ee632fac2f88da9e0aa5a3d8cdd\"'\u001b[0m,\n",
       "    \u001b[32m'ServerSideEncryption'\u001b[0m: \u001b[32m'AES256'\u001b[0m\n",
       "\u001b[1m}\u001b[0m\n"
      ]
     },
     "metadata": {},
     "output_type": "display_data"
    },
    {
     "data": {
      "text/html": [
       "<pre style=\"white-space:pre;overflow-x:auto;line-height:normal;font-family:Menlo,'DejaVu Sans Mono',consolas,'Courier New',monospace\">Content of updated object <span style=\"color: #008000; text-decoration-color: #008000\">'example/object/file.txt'</span>:\n",
       "This is updated content.\n",
       "</pre>\n"
      ],
      "text/plain": [
       "Content of updated object \u001b[32m'example/object/file.txt'\u001b[0m:\n",
       "This is updated content.\n"
      ]
     },
     "metadata": {},
     "output_type": "display_data"
    }
   ],
   "source": [
    "new_content = \"This is updated content.\"\n",
    "\n",
    "previous_content = read_text_object_from_s3(BUCKET_NAME, EXAMPLE_OBJECT_KEY)\n",
    "print(f\"Previous content of object '{EXAMPLE_OBJECT_KEY}':\\n{previous_content}\")\n",
    "\n",
    "# the \"PUT object\" command is an upsert, so it will overwrite existing files\n",
    "response = write_text_object_to_s3(BUCKET_NAME, EXAMPLE_OBJECT_KEY, new_content)\n",
    "print(response)\n",
    "\n",
    "# Read the updated content of the object\n",
    "updated_content = read_text_object_from_s3(BUCKET_NAME, EXAMPLE_OBJECT_KEY)\n",
    "if updated_content:\n",
    "    print(f\"Content of updated object '{EXAMPLE_OBJECT_KEY}':\\n{updated_content}\")"
   ]
  },
  {
   "cell_type": "markdown",
   "metadata": {},
   "source": [
    "## Exercise #3 - Delete the object from the bucket\n",
    "\n",
    "In this exercise, you will delete an object from the S3 bucket."
   ]
  },
  {
   "cell_type": "code",
   "execution_count": 38,
   "metadata": {},
   "outputs": [
    {
     "data": {
      "text/html": [
       "<pre style=\"white-space:pre;overflow-x:auto;line-height:normal;font-family:Menlo,'DejaVu Sans Mono',consolas,'Courier New',monospace\"><span style=\"font-weight: bold\">{</span>\n",
       "    <span style=\"color: #008000; text-decoration-color: #008000\">'ResponseMetadata'</span>: <span style=\"font-weight: bold\">{</span>\n",
       "        <span style=\"color: #008000; text-decoration-color: #008000\">'RequestId'</span>: <span style=\"color: #008000; text-decoration-color: #008000\">'T951VFT0H5D17NPD'</span>,\n",
       "        <span style=\"color: #008000; text-decoration-color: #008000\">'HostId'</span>: <span style=\"color: #008000; text-decoration-color: #008000\">'WcgG/dqToctle/61eanlxxL85qJBGHCXkBLewbXD2xhyjZMKdU8cs+glzK8vyTnaD1mtZVWGOy5EHAmILrJ+yw=='</span>,\n",
       "        <span style=\"color: #008000; text-decoration-color: #008000\">'HTTPStatusCode'</span>: <span style=\"color: #008080; text-decoration-color: #008080; font-weight: bold\">204</span>,\n",
       "        <span style=\"color: #008000; text-decoration-color: #008000\">'HTTPHeaders'</span>: <span style=\"font-weight: bold\">{</span>\n",
       "            <span style=\"color: #008000; text-decoration-color: #008000\">'x-amz-id-2'</span>: \n",
       "<span style=\"color: #008000; text-decoration-color: #008000\">'WcgG/dqToctle/61eanlxxL85qJBGHCXkBLewbXD2xhyjZMKdU8cs+glzK8vyTnaD1mtZVWGOy5EHAmILrJ+yw=='</span>,\n",
       "            <span style=\"color: #008000; text-decoration-color: #008000\">'x-amz-request-id'</span>: <span style=\"color: #008000; text-decoration-color: #008000\">'T951VFT0H5D17NPD'</span>,\n",
       "            <span style=\"color: #008000; text-decoration-color: #008000\">'date'</span>: <span style=\"color: #008000; text-decoration-color: #008000\">'Fri, 07 Jun 2024 10:08:57 GMT'</span>,\n",
       "            <span style=\"color: #008000; text-decoration-color: #008000\">'server'</span>: <span style=\"color: #008000; text-decoration-color: #008000\">'AmazonS3'</span>\n",
       "        <span style=\"font-weight: bold\">}</span>,\n",
       "        <span style=\"color: #008000; text-decoration-color: #008000\">'RetryAttempts'</span>: <span style=\"color: #008080; text-decoration-color: #008080; font-weight: bold\">0</span>\n",
       "    <span style=\"font-weight: bold\">}</span>\n",
       "<span style=\"font-weight: bold\">}</span>\n",
       "</pre>\n"
      ],
      "text/plain": [
       "\u001b[1m{\u001b[0m\n",
       "    \u001b[32m'ResponseMetadata'\u001b[0m: \u001b[1m{\u001b[0m\n",
       "        \u001b[32m'RequestId'\u001b[0m: \u001b[32m'T951VFT0H5D17NPD'\u001b[0m,\n",
       "        \u001b[32m'HostId'\u001b[0m: \u001b[32m'WcgG/dqToctle/61eanlxxL85qJBGHCXkBLewbXD2xhyjZMKdU8cs+glzK8vyTnaD1mtZVWGOy5EHAmILrJ+\u001b[0m\u001b[32myw\u001b[0m\u001b[32m=='\u001b[0m,\n",
       "        \u001b[32m'HTTPStatusCode'\u001b[0m: \u001b[1;36m204\u001b[0m,\n",
       "        \u001b[32m'HTTPHeaders'\u001b[0m: \u001b[1m{\u001b[0m\n",
       "            \u001b[32m'x-amz-id-2'\u001b[0m: \n",
       "\u001b[32m'WcgG/dqToctle/61eanlxxL85qJBGHCXkBLewbXD2xhyjZMKdU8cs+glzK8vyTnaD1mtZVWGOy5EHAmILrJ+\u001b[0m\u001b[32myw\u001b[0m\u001b[32m=='\u001b[0m,\n",
       "            \u001b[32m'x-amz-request-id'\u001b[0m: \u001b[32m'T951VFT0H5D17NPD'\u001b[0m,\n",
       "            \u001b[32m'date'\u001b[0m: \u001b[32m'Fri, 07 Jun 2024 10:08:57 GMT'\u001b[0m,\n",
       "            \u001b[32m'server'\u001b[0m: \u001b[32m'AmazonS3'\u001b[0m\n",
       "        \u001b[1m}\u001b[0m,\n",
       "        \u001b[32m'RetryAttempts'\u001b[0m: \u001b[1;36m0\u001b[0m\n",
       "    \u001b[1m}\u001b[0m\n",
       "\u001b[1m}\u001b[0m\n"
      ]
     },
     "metadata": {},
     "output_type": "display_data"
    }
   ],
   "source": [
    "try:\n",
    "    from mypy_boto3_s3.type_defs import DeleteObjectOutputTypeDef\n",
    "except ImportError:\n",
    "    print(\"boto3-stubs[s3] not installed\")\n",
    "\n",
    "\n",
    "def delete_object_from_s3(\n",
    "    bucket_name: str,\n",
    "    object_key: str,\n",
    ") -> Optional[\"DeleteObjectOutputTypeDef\"]:\n",
    "    \"\"\"\n",
    "    Delete an object from an S3 bucket.\n",
    "\n",
    "    :param bucket_name: Name of the bucket to delete the object from\n",
    "    :param object_key: Key of the object to delete\n",
    "    :return: Response from the delete_object call\n",
    "    \"\"\"\n",
    "    # fill this out...\n",
    "    response = S3_CLIENT.delete_object(Bucket=bucket_name, Key=object_key)\n",
    "    return response\n",
    "\n",
    "\n",
    "# Delete the example object\n",
    "response = delete_object_from_s3(bucket_name=BUCKET_NAME, object_key=EXAMPLE_OBJECT_KEY)\n",
    "print(response)"
   ]
  },
  {
   "cell_type": "markdown",
   "metadata": {},
   "source": [
    "## Exercise #4 - Try to read a non-existent object\n",
    "\n",
    "In this exercise, you will attempt to read a non-existent object from the S3 bucket. \n",
    "\n",
    "Catch, suppress, and print the `ClientError` exception that is raised when you try to read a non-existent object."
   ]
  },
  {
   "cell_type": "code",
   "execution_count": 40,
   "metadata": {},
   "outputs": [
    {
     "data": {
      "text/html": [
       "<pre style=\"white-space:pre;overflow-x:auto;line-height:normal;font-family:Menlo,'DejaVu Sans Mono',consolas,'Courier New',monospace\">Trying to read the deleted object at <span style=\"color: #008000; text-decoration-color: #008000\">'s3://cloud-course-bucket-1a4e/example/object/file.txt'</span> <span style=\"color: #808000; text-decoration-color: #808000\">...</span>\n",
       "</pre>\n"
      ],
      "text/plain": [
       "Trying to read the deleted object at \u001b[32m's3://cloud-course-bucket-1a4e/example/object/file.txt'\u001b[0m \u001b[33m...\u001b[0m\n"
      ]
     },
     "metadata": {},
     "output_type": "display_data"
    },
    {
     "data": {
      "text/html": [
       "<pre style=\"white-space:pre;overflow-x:auto;line-height:normal;font-family:Menlo,'DejaVu Sans Mono',consolas,'Courier New',monospace\">Key not found\n",
       "</pre>\n"
      ],
      "text/plain": [
       "Key not found\n"
      ]
     },
     "metadata": {},
     "output_type": "display_data"
    }
   ],
   "source": [
    "print(f\"Trying to read the deleted object at 's3://{BUCKET_NAME}/{EXAMPLE_OBJECT_KEY}' ...\")\n",
    "\n",
    "delete_object_from_s3(bucket_name=BUCKET_NAME, object_key=EXAMPLE_OBJECT_KEY)\n",
    "\n",
    "try:\n",
    "    # try to read the deleted object\n",
    "    read_text_object_from_s3(BUCKET_NAME, EXAMPLE_OBJECT_KEY)\n",
    "except ClientError as err:\n",
    "    print(\"Key not found\")\n",
    "    assert \"NoSuchKey\" in str(err)"
   ]
  },
  {
   "cell_type": "markdown",
   "metadata": {},
   "source": [
    "## Exercise #5 - Try to delete a non-existent object\n",
    "\n",
    "**Note:** the result of calling `s3_client.delete_object` on a non-existent object is not what you might expect. It succeeds whether or not there exists an object with the given key.\n",
    "\n",
    "**Note:** The HTTP status code `204` means `No Content`. Or in other words, the request is successful\n",
    "but there was nothing to delete."
   ]
  },
  {
   "cell_type": "code",
   "execution_count": 41,
   "metadata": {},
   "outputs": [
    {
     "data": {
      "text/html": [
       "<pre style=\"white-space:pre;overflow-x:auto;line-height:normal;font-family:Menlo,'DejaVu Sans Mono',consolas,'Courier New',monospace\"><span style=\"font-weight: bold\">{</span>\n",
       "    <span style=\"color: #008000; text-decoration-color: #008000\">'ResponseMetadata'</span>: <span style=\"font-weight: bold\">{</span>\n",
       "        <span style=\"color: #008000; text-decoration-color: #008000\">'RequestId'</span>: <span style=\"color: #008000; text-decoration-color: #008000\">'8W1NVJ8EAQJ6PQN1'</span>,\n",
       "        <span style=\"color: #008000; text-decoration-color: #008000\">'HostId'</span>: <span style=\"color: #008000; text-decoration-color: #008000\">'uYfMnRvDhftGZc/ZPDFuBEAHOQ4JJzZX84LQ2pqY1hTHtB2MssFj0Iu713vNrSlMFEyNuW6PpTE='</span>,\n",
       "        <span style=\"color: #008000; text-decoration-color: #008000\">'HTTPStatusCode'</span>: <span style=\"color: #008080; text-decoration-color: #008080; font-weight: bold\">204</span>,\n",
       "        <span style=\"color: #008000; text-decoration-color: #008000\">'HTTPHeaders'</span>: <span style=\"font-weight: bold\">{</span>\n",
       "            <span style=\"color: #008000; text-decoration-color: #008000\">'x-amz-id-2'</span>: <span style=\"color: #008000; text-decoration-color: #008000\">'uYfMnRvDhftGZc/ZPDFuBEAHOQ4JJzZX84LQ2pqY1hTHtB2MssFj0Iu713vNrSlMFEyNuW6PpTE='</span>,\n",
       "            <span style=\"color: #008000; text-decoration-color: #008000\">'x-amz-request-id'</span>: <span style=\"color: #008000; text-decoration-color: #008000\">'8W1NVJ8EAQJ6PQN1'</span>,\n",
       "            <span style=\"color: #008000; text-decoration-color: #008000\">'date'</span>: <span style=\"color: #008000; text-decoration-color: #008000\">'Fri, 07 Jun 2024 10:11:49 GMT'</span>,\n",
       "            <span style=\"color: #008000; text-decoration-color: #008000\">'server'</span>: <span style=\"color: #008000; text-decoration-color: #008000\">'AmazonS3'</span>\n",
       "        <span style=\"font-weight: bold\">}</span>,\n",
       "        <span style=\"color: #008000; text-decoration-color: #008000\">'RetryAttempts'</span>: <span style=\"color: #008080; text-decoration-color: #008080; font-weight: bold\">0</span>\n",
       "    <span style=\"font-weight: bold\">}</span>\n",
       "<span style=\"font-weight: bold\">}</span>\n",
       "</pre>\n"
      ],
      "text/plain": [
       "\u001b[1m{\u001b[0m\n",
       "    \u001b[32m'ResponseMetadata'\u001b[0m: \u001b[1m{\u001b[0m\n",
       "        \u001b[32m'RequestId'\u001b[0m: \u001b[32m'8W1NVJ8EAQJ6PQN1'\u001b[0m,\n",
       "        \u001b[32m'HostId'\u001b[0m: \u001b[32m'uYfMnRvDhftGZc/ZPDFuBEAHO\u001b[0m\u001b[32mQ4JJzZX84LQ2pqY1hTHtB2MssFj0Iu713vNrSlMFEyNuW6PpTE\u001b[0m\u001b[32m='\u001b[0m,\n",
       "        \u001b[32m'HTTPStatusCode'\u001b[0m: \u001b[1;36m204\u001b[0m,\n",
       "        \u001b[32m'HTTPHeaders'\u001b[0m: \u001b[1m{\u001b[0m\n",
       "            \u001b[32m'x-amz-id-2'\u001b[0m: \u001b[32m'uYfMnRvDhftGZc/ZPDFuBEAHO\u001b[0m\u001b[32mQ4JJzZX84LQ2pqY1hTHtB2MssFj0Iu713vNrSlMFEyNuW6PpTE\u001b[0m\u001b[32m='\u001b[0m,\n",
       "            \u001b[32m'x-amz-request-id'\u001b[0m: \u001b[32m'8W1NVJ8EAQJ6PQN1'\u001b[0m,\n",
       "            \u001b[32m'date'\u001b[0m: \u001b[32m'Fri, 07 Jun 2024 10:11:49 GMT'\u001b[0m,\n",
       "            \u001b[32m'server'\u001b[0m: \u001b[32m'AmazonS3'\u001b[0m\n",
       "        \u001b[1m}\u001b[0m,\n",
       "        \u001b[32m'RetryAttempts'\u001b[0m: \u001b[1;36m0\u001b[0m\n",
       "    \u001b[1m}\u001b[0m\n",
       "\u001b[1m}\u001b[0m\n"
      ]
     },
     "metadata": {},
     "output_type": "display_data"
    }
   ],
   "source": [
    "non_existant_object_key = EXAMPLE_OBJECT_KEY + \"_non_existent\"\n",
    "\n",
    "# delete the non-existent object\n",
    "# ...\n",
    "response = delete_object_from_s3(bucket_name=BUCKET_NAME, object_key=non_existant_object_key)\n",
    "\n",
    "print(response)"
   ]
  },
  {
   "cell_type": "markdown",
   "metadata": {},
   "source": [
    "## Exercise #6 - Error handling when deleting an object\n",
    "\n",
    "In this exercise, you will implement error handling to raise a `FileNotFoundError` if you try to delete a non-existent object, i.e., one that has already been deleted or was never written.\n",
    "\n",
    "Hint, the [`s3_client.head_object(...)`](https://boto3.amazonaws.com/v1/documentation/api/latest/reference/services/s3/client/head_object.html) method raises an error with status code `404 - File Not Found`\n",
    "if no file exists for the given object key."
   ]
  },
  {
   "cell_type": "code",
   "execution_count": 47,
   "metadata": {},
   "outputs": [],
   "source": [
    "# S3_CLIENT.head_object(Bucket=BUCKET_NAME, Key=non_existant_object_key)"
   ]
  },
  {
   "cell_type": "code",
   "execution_count": 45,
   "metadata": {},
   "outputs": [
    {
     "data": {
      "text/html": [
       "<pre style=\"white-space:pre;overflow-x:auto;line-height:normal;font-family:Menlo,'DejaVu Sans Mono',consolas,'Courier New',monospace\">Object not found at <span style=\"color: #008000; text-decoration-color: #008000\">'s3://cloud-course-bucket-1a4e/example/object/file.txt'</span>\n",
       "</pre>\n"
      ],
      "text/plain": [
       "Object not found at \u001b[32m's3://cloud-course-bucket-1a4e/example/object/file.txt'\u001b[0m\n"
      ]
     },
     "metadata": {},
     "output_type": "display_data"
    }
   ],
   "source": [
    "HTTP_FILE_NOT_FOUND_ERROR_CODE = \"404\"\n",
    "\n",
    "\n",
    "class S3FileNotFoundError(Exception):\n",
    "    \"\"\"Raise this exception when an object at a given path is not found in S3.\"\"\"\n",
    "\n",
    "    def __init__(self, bucket_name: str, object_key: str) -> None:\n",
    "        self.bucket_name = bucket_name\n",
    "        self.object_key = object_key\n",
    "        self.message = f\"Object not found at 's3://{bucket_name}/{object_key}'\"\n",
    "\n",
    "    def __str__(self) -> str:\n",
    "        return self.message\n",
    "\n",
    "\n",
    "def delete_object_or_error_if_not_exists(bucket_name: str, object_key: str) -> None:\n",
    "    \"\"\"\n",
    "    Delete an object from an S3 bucket with error handling for non-existent objects.\n",
    "\n",
    "    :param bucket_name: Name of the bucket to delete the object from\n",
    "    :param object_key: Key of the object to delete\n",
    "\n",
    "    :raises S3FileNotFoundError: if no object exists at the given path\n",
    "    :raises ClientError: if an unexpected error occurs when using S3 that is not due to file not found\n",
    "    \"\"\"\n",
    "    # fill this out...\n",
    "    try:\n",
    "        S3_CLIENT.head_object(Bucket=bucket_name, Key=object_key)\n",
    "        response = S3_CLIENT.delete_object(Bucket=bucket_name, Key=object_key)\n",
    "        return response\n",
    "    except ClientError as err:\n",
    "        # If a 404 error is thrown, the object does not exist\n",
    "        err_is_due_to_file_not_found = err.response[\"Error\"][\"Code\"] == HTTP_FILE_NOT_FOUND_ERROR_CODE\n",
    "        if err_is_due_to_file_not_found:\n",
    "            raise S3FileNotFoundError(bucket_name, object_key)\n",
    "        else:\n",
    "            # Re-raise the exception if it's a different error\n",
    "            raise\n",
    "\n",
    "\n",
    "# Try to delete the non-existent example object with error handling\n",
    "try:\n",
    "    delete_object_or_error_if_not_exists(BUCKET_NAME, EXAMPLE_OBJECT_KEY)\n",
    "except S3FileNotFoundError as err:\n",
    "    print(err)"
   ]
  },
  {
   "cell_type": "markdown",
   "metadata": {},
   "source": [
    "## Exercise #7 - List objects in the bucket to confirm they were deleted in the previous exercises\n",
    "\n",
    "In this exercise, you will list all objects in the S3 bucket to confirm that the object has been deleted."
   ]
  },
  {
   "cell_type": "code",
   "execution_count": 48,
   "metadata": {},
   "outputs": [
    {
     "data": {
      "text/html": [
       "<pre style=\"white-space:pre;overflow-x:auto;line-height:normal;font-family:Menlo,'DejaVu Sans Mono',consolas,'Courier New',monospace\">Objects in bucket:\n",
       "</pre>\n"
      ],
      "text/plain": [
       "Objects in bucket:\n"
      ]
     },
     "metadata": {},
     "output_type": "display_data"
    },
    {
     "data": {
      "text/html": [
       "<pre style=\"white-space:pre;overflow-x:auto;line-height:normal;font-family:Menlo,'DejaVu Sans Mono',consolas,'Courier New',monospace\"> - example-a/object/file1.txt\n",
       "</pre>\n"
      ],
      "text/plain": [
       " - example-a/object/file1.txt\n"
      ]
     },
     "metadata": {},
     "output_type": "display_data"
    },
    {
     "data": {
      "text/html": [
       "<pre style=\"white-space:pre;overflow-x:auto;line-height:normal;font-family:Menlo,'DejaVu Sans Mono',consolas,'Courier New',monospace\"> - example-a/object/file2.txt\n",
       "</pre>\n"
      ],
      "text/plain": [
       " - example-a/object/file2.txt\n"
      ]
     },
     "metadata": {},
     "output_type": "display_data"
    },
    {
     "data": {
      "text/html": [
       "<pre style=\"white-space:pre;overflow-x:auto;line-height:normal;font-family:Menlo,'DejaVu Sans Mono',consolas,'Courier New',monospace\"> - example-a/object/file3.txt\n",
       "</pre>\n"
      ],
      "text/plain": [
       " - example-a/object/file3.txt\n"
      ]
     },
     "metadata": {},
     "output_type": "display_data"
    },
    {
     "data": {
      "text/html": [
       "<pre style=\"white-space:pre;overflow-x:auto;line-height:normal;font-family:Menlo,'DejaVu Sans Mono',consolas,'Courier New',monospace\"> - example-b/object/file1.txt\n",
       "</pre>\n"
      ],
      "text/plain": [
       " - example-b/object/file1.txt\n"
      ]
     },
     "metadata": {},
     "output_type": "display_data"
    },
    {
     "data": {
      "text/html": [
       "<pre style=\"white-space:pre;overflow-x:auto;line-height:normal;font-family:Menlo,'DejaVu Sans Mono',consolas,'Courier New',monospace\"> - example-b/object/file2.txt\n",
       "</pre>\n"
      ],
      "text/plain": [
       " - example-b/object/file2.txt\n"
      ]
     },
     "metadata": {},
     "output_type": "display_data"
    },
    {
     "data": {
      "text/html": [
       "<pre style=\"white-space:pre;overflow-x:auto;line-height:normal;font-family:Menlo,'DejaVu Sans Mono',consolas,'Courier New',monospace\"> - example-b/object/file3.txt\n",
       "</pre>\n"
      ],
      "text/plain": [
       " - example-b/object/file3.txt\n"
      ]
     },
     "metadata": {},
     "output_type": "display_data"
    }
   ],
   "source": [
    "# List all objects in the bucket\n",
    "objects = list_all_object_keys_in_bucket(BUCKET_NAME)\n",
    "\n",
    "if objects:\n",
    "    print(\"Objects in bucket:\")\n",
    "    for obj in objects:\n",
    "        print(f\" - {obj}\")\n",
    "else:\n",
    "    print(\"Bucket is empty.\")"
   ]
  },
  {
   "cell_type": "markdown",
   "metadata": {},
   "source": [
    "## Exercise 8 - List objects by prefix\n",
    "\n",
    "In this exercise, you will list objects in the S3 bucket by prefix."
   ]
  },
  {
   "cell_type": "code",
   "execution_count": 52,
   "metadata": {},
   "outputs": [],
   "source": [
    "# S3_CLIENT.list_objects_v2(Bucket=BUCKET_NAME, Prefix=\"example-a/\")['Contents']"
   ]
  },
  {
   "cell_type": "code",
   "execution_count": 51,
   "metadata": {},
   "outputs": [
    {
     "data": {
      "text/html": [
       "<pre style=\"white-space:pre;overflow-x:auto;line-height:normal;font-family:Menlo,'DejaVu Sans Mono',consolas,'Courier New',monospace\">Objects with prefix <span style=\"color: #008000; text-decoration-color: #008000\">'example-a/'</span>:\n",
       "</pre>\n"
      ],
      "text/plain": [
       "Objects with prefix \u001b[32m'example-a/'\u001b[0m:\n"
      ]
     },
     "metadata": {},
     "output_type": "display_data"
    },
    {
     "data": {
      "text/html": [
       "<pre style=\"white-space:pre;overflow-x:auto;line-height:normal;font-family:Menlo,'DejaVu Sans Mono',consolas,'Courier New',monospace\"> - example-a/object/file1.txt\n",
       "</pre>\n"
      ],
      "text/plain": [
       " - example-a/object/file1.txt\n"
      ]
     },
     "metadata": {},
     "output_type": "display_data"
    },
    {
     "data": {
      "text/html": [
       "<pre style=\"white-space:pre;overflow-x:auto;line-height:normal;font-family:Menlo,'DejaVu Sans Mono',consolas,'Courier New',monospace\"> - example-a/object/file2.txt\n",
       "</pre>\n"
      ],
      "text/plain": [
       " - example-a/object/file2.txt\n"
      ]
     },
     "metadata": {},
     "output_type": "display_data"
    },
    {
     "data": {
      "text/html": [
       "<pre style=\"white-space:pre;overflow-x:auto;line-height:normal;font-family:Menlo,'DejaVu Sans Mono',consolas,'Courier New',monospace\"> - example-a/object/file3.txt\n",
       "</pre>\n"
      ],
      "text/plain": [
       " - example-a/object/file3.txt\n"
      ]
     },
     "metadata": {},
     "output_type": "display_data"
    }
   ],
   "source": [
    "def list_all_objects_in_bucket_by_prefix(bucket_name: str, prefix: str) -> list[str]:\n",
    "    \"\"\"\n",
    "    List objects in an S3 bucket by prefix.\n",
    "\n",
    "    :param bucket_name: Name of the bucket to list objects from\n",
    "    :param prefix: Prefix to filter objects by\n",
    "    :return: List of object keys\n",
    "    \"\"\"\n",
    "    # fill this out...\n",
    "    response = S3_CLIENT.list_objects_v2(Bucket=BUCKET_NAME, Prefix=prefix)\n",
    "    return [content.get(\"Key\") for content in response.get(\"Contents\", [])]\n",
    "\n",
    "\n",
    "# List objects by prefix\n",
    "prefix = \"example-a/\"\n",
    "objects_by_prefix = list_all_objects_in_bucket_by_prefix(BUCKET_NAME, prefix)\n",
    "\n",
    "if objects_by_prefix:\n",
    "    print(f\"Objects with prefix '{prefix}':\")\n",
    "    for obj in objects_by_prefix:\n",
    "        print(f\" - {obj}\")\n",
    "else:\n",
    "    print(f\"No objects found with prefix '{prefix}'.\")"
   ]
  },
  {
   "cell_type": "markdown",
   "metadata": {},
   "source": [
    "## Exercise 9 - Delete a bucket, no matter what!\n",
    "\n",
    "In this exercise, you will delete the S3 bucket. Your bucket may have objects in it. Does that matter?\n",
    "\n",
    "- **Ans:**\n",
    "  AWS does not allow you to delete a bucket that has objects in it. You must first delete all objects in the bucket before you can delete the bucket itself.\n",
    "\n",
    "\n",
    "Write a function to delete your bucket. \n",
    "\n",
    "***Be careful to point it at the right bucket using the right\n",
    "AWS credentials--or you might delete the wrong bucket!***"
   ]
  },
  {
   "cell_type": "code",
   "execution_count": 53,
   "metadata": {},
   "outputs": [
    {
     "data": {
      "text/plain": [
       "['example-a/object/file1.txt',\n",
       " 'example-a/object/file2.txt',\n",
       " 'example-a/object/file3.txt',\n",
       " 'example-b/object/file1.txt',\n",
       " 'example-b/object/file2.txt',\n",
       " 'example-b/object/file3.txt']"
      ]
     },
     "execution_count": 53,
     "metadata": {},
     "output_type": "execute_result"
    }
   ],
   "source": [
    "list_all_object_keys_in_bucket(BUCKET_NAME)"
   ]
  },
  {
   "cell_type": "code",
   "execution_count": 118,
   "metadata": {},
   "outputs": [
    {
     "data": {
      "text/html": [
       "<pre style=\"white-space:pre;overflow-x:auto;line-height:normal;font-family:Menlo,'DejaVu Sans Mono',consolas,'Courier New',monospace\">Deleted objects in bucket <span style=\"color: #008000; text-decoration-color: #008000\">'cloud-course-bucket-1a4e'</span>. Proceeding to delete the bucket.\n",
       "</pre>\n"
      ],
      "text/plain": [
       "Deleted objects in bucket \u001b[32m'cloud-course-bucket-1a4e'\u001b[0m. Proceeding to delete the bucket.\n"
      ]
     },
     "metadata": {},
     "output_type": "display_data"
    },
    {
     "data": {
      "text/html": [
       "<pre style=\"white-space:pre;overflow-x:auto;line-height:normal;font-family:Menlo,'DejaVu Sans Mono',consolas,'Courier New',monospace\">Bucket <span style=\"color: #008000; text-decoration-color: #008000\">'cloud-course-bucket-1a4e'</span> deleted successfully!\n",
       "</pre>\n"
      ],
      "text/plain": [
       "Bucket \u001b[32m'cloud-course-bucket-1a4e'\u001b[0m deleted successfully!\n"
      ]
     },
     "metadata": {},
     "output_type": "display_data"
    },
    {
     "data": {
      "text/html": [
       "<pre style=\"white-space:pre;overflow-x:auto;line-height:normal;font-family:Menlo,'DejaVu Sans Mono',consolas,'Courier New',monospace\"><span style=\"font-weight: bold\">{</span>\n",
       "    <span style=\"color: #008000; text-decoration-color: #008000\">'ResponseMetadata'</span>: <span style=\"font-weight: bold\">{</span>\n",
       "        <span style=\"color: #008000; text-decoration-color: #008000\">'RequestId'</span>: <span style=\"color: #008000; text-decoration-color: #008000\">'KNV84Q6ABDQNQV8H'</span>,\n",
       "        <span style=\"color: #008000; text-decoration-color: #008000\">'HostId'</span>: <span style=\"color: #008000; text-decoration-color: #008000\">'rAUDOXf9z3/djqkUu1UqW0HqFxWsviMHF1zlNsaBT2Q9DJ81r7zYTtftg4TpUR78h3MT9SS+9AE='</span>,\n",
       "        <span style=\"color: #008000; text-decoration-color: #008000\">'HTTPStatusCode'</span>: <span style=\"color: #008080; text-decoration-color: #008080; font-weight: bold\">204</span>,\n",
       "        <span style=\"color: #008000; text-decoration-color: #008000\">'HTTPHeaders'</span>: <span style=\"font-weight: bold\">{</span>\n",
       "            <span style=\"color: #008000; text-decoration-color: #008000\">'x-amz-id-2'</span>: <span style=\"color: #008000; text-decoration-color: #008000\">'rAUDOXf9z3/djqkUu1UqW0HqFxWsviMHF1zlNsaBT2Q9DJ81r7zYTtftg4TpUR78h3MT9SS+9AE='</span>,\n",
       "            <span style=\"color: #008000; text-decoration-color: #008000\">'x-amz-request-id'</span>: <span style=\"color: #008000; text-decoration-color: #008000\">'KNV84Q6ABDQNQV8H'</span>,\n",
       "            <span style=\"color: #008000; text-decoration-color: #008000\">'date'</span>: <span style=\"color: #008000; text-decoration-color: #008000\">'Fri, 07 Jun 2024 11:57:38 GMT'</span>,\n",
       "            <span style=\"color: #008000; text-decoration-color: #008000\">'server'</span>: <span style=\"color: #008000; text-decoration-color: #008000\">'AmazonS3'</span>\n",
       "        <span style=\"font-weight: bold\">}</span>,\n",
       "        <span style=\"color: #008000; text-decoration-color: #008000\">'RetryAttempts'</span>: <span style=\"color: #008080; text-decoration-color: #008080; font-weight: bold\">0</span>\n",
       "    <span style=\"font-weight: bold\">}</span>\n",
       "<span style=\"font-weight: bold\">}</span>\n",
       "</pre>\n"
      ],
      "text/plain": [
       "\u001b[1m{\u001b[0m\n",
       "    \u001b[32m'ResponseMetadata'\u001b[0m: \u001b[1m{\u001b[0m\n",
       "        \u001b[32m'RequestId'\u001b[0m: \u001b[32m'KNV84Q6ABDQNQV8H'\u001b[0m,\n",
       "        \u001b[32m'HostId'\u001b[0m: \u001b[32m'rAUDOXf9z3/djqkUu1UqW0HqFxWsviMHF1zlNsaBT2Q9DJ81r7zYTtftg4TpUR78h3MT9SS+\u001b[0m\u001b[32m9AE\u001b[0m\u001b[32m='\u001b[0m,\n",
       "        \u001b[32m'HTTPStatusCode'\u001b[0m: \u001b[1;36m204\u001b[0m,\n",
       "        \u001b[32m'HTTPHeaders'\u001b[0m: \u001b[1m{\u001b[0m\n",
       "            \u001b[32m'x-amz-id-2'\u001b[0m: \u001b[32m'rAUDOXf9z3/djqkUu1UqW0HqFxWsviMHF1zlNsaBT2Q9DJ81r7zYTtftg4TpUR78h3MT9SS+\u001b[0m\u001b[32m9AE\u001b[0m\u001b[32m='\u001b[0m,\n",
       "            \u001b[32m'x-amz-request-id'\u001b[0m: \u001b[32m'KNV84Q6ABDQNQV8H'\u001b[0m,\n",
       "            \u001b[32m'date'\u001b[0m: \u001b[32m'Fri, 07 Jun 2024 11:57:38 GMT'\u001b[0m,\n",
       "            \u001b[32m'server'\u001b[0m: \u001b[32m'AmazonS3'\u001b[0m\n",
       "        \u001b[1m}\u001b[0m,\n",
       "        \u001b[32m'RetryAttempts'\u001b[0m: \u001b[1;36m0\u001b[0m\n",
       "    \u001b[1m}\u001b[0m\n",
       "\u001b[1m}\u001b[0m\n"
      ]
     },
     "metadata": {},
     "output_type": "display_data"
    }
   ],
   "source": [
    "import re\n",
    "import boto3\n",
    "from botocore.exceptions import ClientError\n",
    "\n",
    "try:\n",
    "    from mypy_boto3_s3.type_defs import EmptyResponseMetadataTypeDef\n",
    "except ImportError:\n",
    "    print(\"boto3-stubs[s3] not installed\")\n",
    "\n",
    "\n",
    "def delete_bucket(bucket_name: str) -> Optional[\"EmptyResponseMetadataTypeDef\"]:\n",
    "    \"\"\"\n",
    "    Delete an S3 bucket, including all its objects.\n",
    "\n",
    "    If the bucket does not exist, no error is raised.\n",
    "\n",
    "    :param bucket_name: Name of the bucket to delete\n",
    "    :return: Response from the delete_bucket call or None if there is no bucket.\n",
    "    \"\"\"\n",
    "\n",
    "    try:\n",
    "        object_keys = list_all_object_keys_in_bucket(bucket_name)\n",
    "    except ClientError as err:\n",
    "        if \"NoSuchBucket\" in str(err):\n",
    "            return\n",
    "        raise\n",
    "\n",
    "    if object_keys:\n",
    "        delete_objects_format = {\"Objects\": [{\"Key\": obj} for obj in object_keys]}\n",
    "        S3_CLIENT.delete_objects(Bucket=bucket_name, Delete=delete_objects_format)\n",
    "        print(f\"Deleted objects in bucket '{bucket_name}'. Proceeding to delete the bucket.\")\n",
    "    else:\n",
    "        print(f\"Bucket '{bucket_name}' is empty. Proceeding to delete the bucket.\")\n",
    "\n",
    "    try:\n",
    "        response: \"EmptyResponseMetadataTypeDef\" = S3_CLIENT.delete_bucket(Bucket=bucket_name)\n",
    "        print(f\"Bucket '{bucket_name}' deleted successfully!\")\n",
    "        return response\n",
    "    except ClientError as err:\n",
    "        if \"NoSuchBucket\" in str(err):\n",
    "            return\n",
    "        raise\n",
    "\n",
    "\n",
    "response = delete_bucket(BUCKET_NAME)\n",
    "print(response)"
   ]
  },
  {
   "cell_type": "code",
   "execution_count": 64,
   "metadata": {},
   "outputs": [
    {
     "data": {
      "text/html": [
       "<pre style=\"white-space:pre;overflow-x:auto;line-height:normal;font-family:Menlo,'DejaVu Sans Mono',consolas,'Courier New',monospace\">Bucket deletion failed/Bucket not exists: cloud-course-bucket-1a4e\n",
       "</pre>\n"
      ],
      "text/plain": [
       "Bucket deletion failed/Bucket not exists: cloud-course-bucket-1a4e\n"
      ]
     },
     "metadata": {},
     "output_type": "display_data"
    },
    {
     "data": {
      "text/html": [
       "<pre style=\"white-space:pre;overflow-x:auto;line-height:normal;font-family:Menlo,'DejaVu Sans Mono',consolas,'Courier New',monospace\">Error: An error occurred <span style=\"font-weight: bold\">(</span>NoSuchBucket<span style=\"font-weight: bold\">)</span> when calling the ListObjectsV2 operation: The specified bucket does not \n",
       "exist\n",
       "</pre>\n"
      ],
      "text/plain": [
       "Error: An error occurred \u001b[1m(\u001b[0mNoSuchBucket\u001b[1m)\u001b[0m when calling the ListObjectsV2 operation: The specified bucket does not \n",
       "exist\n"
      ]
     },
     "metadata": {},
     "output_type": "display_data"
    },
    {
     "data": {
      "text/html": [
       "<pre style=\"white-space:pre;overflow-x:auto;line-height:normal;font-family:Menlo,'DejaVu Sans Mono',consolas,'Courier New',monospace\"><span style=\"color: #800080; text-decoration-color: #800080; font-style: italic\">None</span>\n",
       "</pre>\n"
      ],
      "text/plain": [
       "\u001b[3;35mNone\u001b[0m\n"
      ]
     },
     "metadata": {},
     "output_type": "display_data"
    }
   ],
   "source": [
    "response = delete_bucket(BUCKET_NAME)\n",
    "print(response)"
   ]
  },
  {
   "cell_type": "markdown",
   "metadata": {},
   "source": [
    "## (Optional) Bonus Exercise #1 - Recursively upload a local directory to S3"
   ]
  },
  {
   "cell_type": "code",
   "execution_count": 108,
   "metadata": {},
   "outputs": [
    {
     "data": {
      "text/plain": [
       "15"
      ]
     },
     "execution_count": 108,
     "metadata": {},
     "output_type": "execute_result"
    }
   ],
   "source": [
    "from pathlib import Path\n",
    "\n",
    "# CWD = Path.cwd().resolve()\n",
    "\n",
    "\n",
    "# create a test dir locally with sample files\n",
    "# test_dir = CWD / \"test_dir\"\n",
    "test_dir = Path(\"test_dir\")\n",
    "test_dir.mkdir(parents=True, exist_ok=True)\n",
    "(test_dir / \"file1.txt\").write_text(\"This is file 1.\")\n",
    "(test_dir / \"file2.txt\").write_text(\"This is file 2.\")\n",
    "(test_dir / \"subdir\").mkdir(parents=True, exist_ok=True)\n",
    "(test_dir / \"subdir\" / \"file3.txt\").write_text(\"This is file 3.\")"
   ]
  },
  {
   "cell_type": "code",
   "execution_count": 109,
   "metadata": {},
   "outputs": [
    {
     "data": {
      "text/html": [
       "<pre style=\"white-space:pre;overflow-x:auto;line-height:normal;font-family:Menlo,'DejaVu Sans Mono',consolas,'Courier New',monospace\">File: file1.txt\n",
       "</pre>\n"
      ],
      "text/plain": [
       "File: file1.txt\n"
      ]
     },
     "metadata": {},
     "output_type": "display_data"
    },
    {
     "data": {
      "text/html": [
       "<pre style=\"white-space:pre;overflow-x:auto;line-height:normal;font-family:Menlo,'DejaVu Sans Mono',consolas,'Courier New',monospace\">Content: This is file <span style=\"color: #008080; text-decoration-color: #008080; font-weight: bold\">1</span>.\n",
       "</pre>\n"
      ],
      "text/plain": [
       "Content: This is file \u001b[1;36m1\u001b[0m.\n"
      ]
     },
     "metadata": {},
     "output_type": "display_data"
    },
    {
     "data": {
      "text/html": [
       "<pre style=\"white-space:pre;overflow-x:auto;line-height:normal;font-family:Menlo,'DejaVu Sans Mono',consolas,'Courier New',monospace\">File: file2.txt\n",
       "</pre>\n"
      ],
      "text/plain": [
       "File: file2.txt\n"
      ]
     },
     "metadata": {},
     "output_type": "display_data"
    },
    {
     "data": {
      "text/html": [
       "<pre style=\"white-space:pre;overflow-x:auto;line-height:normal;font-family:Menlo,'DejaVu Sans Mono',consolas,'Courier New',monospace\">Content: This is file <span style=\"color: #008080; text-decoration-color: #008080; font-weight: bold\">2</span>.\n",
       "</pre>\n"
      ],
      "text/plain": [
       "Content: This is file \u001b[1;36m2\u001b[0m.\n"
      ]
     },
     "metadata": {},
     "output_type": "display_data"
    },
    {
     "data": {
      "text/html": [
       "<pre style=\"white-space:pre;overflow-x:auto;line-height:normal;font-family:Menlo,'DejaVu Sans Mono',consolas,'Courier New',monospace\">File: subdir/file3.txt\n",
       "</pre>\n"
      ],
      "text/plain": [
       "File: subdir/file3.txt\n"
      ]
     },
     "metadata": {},
     "output_type": "display_data"
    },
    {
     "data": {
      "text/html": [
       "<pre style=\"white-space:pre;overflow-x:auto;line-height:normal;font-family:Menlo,'DejaVu Sans Mono',consolas,'Courier New',monospace\">Content: This is file <span style=\"color: #008080; text-decoration-color: #008080; font-weight: bold\">3</span>.\n",
       "</pre>\n"
      ],
      "text/plain": [
       "Content: This is file \u001b[1;36m3\u001b[0m.\n"
      ]
     },
     "metadata": {},
     "output_type": "display_data"
    }
   ],
   "source": [
    "# # # Recursively list all files and subdirectories\n",
    "# for path in test_dir.rglob('*'):\n",
    "#     if path.is_file():\n",
    "#         print(f\"File: {path}\")\n",
    "#     elif path.is_dir():\n",
    "#         print(f\"Directory: {path}\")\n",
    "\n",
    "# Recursively list all files and subdirectories with relative paths\n",
    "for path in test_dir.rglob(\"*\"):\n",
    "    relative_path = path.relative_to(test_dir)\n",
    "    if path.is_file():\n",
    "        # print(relative_path.name)\n",
    "        print(f\"File: {relative_path}\")\n",
    "        with path.open() as f:\n",
    "            content = f.read()\n",
    "            print(f\"Content: {content}\")\n",
    "    # elif path.is_dir():\n",
    "    #     print(f\"Directory: {relative_path}\")"
   ]
  },
  {
   "cell_type": "code",
   "execution_count": 120,
   "metadata": {},
   "outputs": [],
   "source": [
    "from pathlib import Path\n",
    "from typing import Generator\n",
    "\n",
    "\n",
    "def recursively_upload_dir_to_bucket(\n",
    "    local_dir_fpath: str | Path,\n",
    "    bucket_name: str,\n",
    "    target_root_prefix_in_bucket: str = \"\",\n",
    "):\n",
    "    \"\"\"\n",
    "    Recurse through a local directory and upload all files to S3 under a target prefix.\n",
    "\n",
    "    The object keys within the bucket should be the relative paths of the files within the local directory.\n",
    "\n",
    "    Example:\n",
    "\n",
    "    path/to/local_dir/\n",
    "    ├── file1.txt\n",
    "    ├── file2.txt\n",
    "    └── subdir\n",
    "        └── file3.txt\n",
    "\n",
    "    Would be uploaded to\n",
    "\n",
    "    s3://bucket-name/target_root_prefix_in_bucket/\n",
    "    ├── file1.txt\n",
    "    ├── file2.txt\n",
    "    └── subdir/\n",
    "        └── file3.txt\n",
    "    \"\"\"\n",
    "    for path in local_dir_fpath.rglob(\"*\"):\n",
    "        relative_path = path.relative_to(local_dir_fpath)\n",
    "        if path.is_file():\n",
    "            # upload the file to S3\n",
    "            with path.open(\"r\") as f:\n",
    "                content = f.read()\n",
    "\n",
    "            if target_root_prefix_in_bucket:\n",
    "                # object_key = f\"{target_root_prefix_in_bucket}/{str(relative_path)}\"\n",
    "                object_key = target_root_prefix_in_bucket + str(relative_path)\n",
    "            else:\n",
    "                object_key = str(relative_path)\n",
    "\n",
    "            if content:\n",
    "                print(f\"Writing object to path 's3://{bucket_name}/{object_key}'\")\n",
    "                write_text_object_to_s3(\n",
    "                    bucket_name=bucket_name,\n",
    "                    object_key=object_key,\n",
    "                    object_content=content,\n",
    "                )\n",
    "\n",
    "    print(\n",
    "        f\"Directory '{local_dir_fpath}' uploaded successfully to S3 bucket '{bucket_name}' with prefix '{target_root_prefix_in_bucket}'.\"\n",
    "    )\n",
    "    return"
   ]
  },
  {
   "cell_type": "code",
   "execution_count": 119,
   "metadata": {},
   "outputs": [
    {
     "data": {
      "text/html": [
       "<pre style=\"white-space:pre;overflow-x:auto;line-height:normal;font-family:Menlo,'DejaVu Sans Mono',consolas,'Courier New',monospace\">Writing object to path <span style=\"color: #008000; text-decoration-color: #008000\">'s3://cloud-course-bucket-1a4e/test-root-dir/file1.txt'</span>\n",
       "</pre>\n"
      ],
      "text/plain": [
       "Writing object to path \u001b[32m's3://cloud-course-bucket-1a4e/test-root-dir/file1.txt'\u001b[0m\n"
      ]
     },
     "metadata": {},
     "output_type": "display_data"
    },
    {
     "data": {
      "text/html": [
       "<pre style=\"white-space:pre;overflow-x:auto;line-height:normal;font-family:Menlo,'DejaVu Sans Mono',consolas,'Courier New',monospace\">Writing object to path <span style=\"color: #008000; text-decoration-color: #008000\">'s3://cloud-course-bucket-1a4e/test-root-dir/file2.txt'</span>\n",
       "</pre>\n"
      ],
      "text/plain": [
       "Writing object to path \u001b[32m's3://cloud-course-bucket-1a4e/test-root-dir/file2.txt'\u001b[0m\n"
      ]
     },
     "metadata": {},
     "output_type": "display_data"
    },
    {
     "data": {
      "text/html": [
       "<pre style=\"white-space:pre;overflow-x:auto;line-height:normal;font-family:Menlo,'DejaVu Sans Mono',consolas,'Courier New',monospace\">Writing object to path <span style=\"color: #008000; text-decoration-color: #008000\">'s3://cloud-course-bucket-1a4e/test-root-dir/subdir/file3.txt'</span>\n",
       "</pre>\n"
      ],
      "text/plain": [
       "Writing object to path \u001b[32m's3://cloud-course-bucket-1a4e/test-root-dir/subdir/file3.txt'\u001b[0m\n"
      ]
     },
     "metadata": {},
     "output_type": "display_data"
    },
    {
     "data": {
      "text/html": [
       "<pre style=\"white-space:pre;overflow-x:auto;line-height:normal;font-family:Menlo,'DejaVu Sans Mono',consolas,'Courier New',monospace\">Directory <span style=\"color: #008000; text-decoration-color: #008000\">'test_dir'</span> uploaded successfully to S3 bucket <span style=\"color: #008000; text-decoration-color: #008000\">'cloud-course-bucket-1a4e'</span> with prefix <span style=\"color: #008000; text-decoration-color: #008000\">'test-root-dir'</span>.\n",
       "</pre>\n"
      ],
      "text/plain": [
       "Directory \u001b[32m'test_dir'\u001b[0m uploaded successfully to S3 bucket \u001b[32m'cloud-course-bucket-1a4e'\u001b[0m with prefix \u001b[32m'test-root-dir'\u001b[0m.\n"
      ]
     },
     "metadata": {},
     "output_type": "display_data"
    },
    {
     "data": {
      "text/html": [
       "<pre style=\"white-space:pre;overflow-x:auto;line-height:normal;font-family:Menlo,'DejaVu Sans Mono',consolas,'Courier New',monospace\"><span style=\"font-weight: bold\">[</span><span style=\"color: #008000; text-decoration-color: #008000\">'test-root-dir/file1.txt'</span>, <span style=\"color: #008000; text-decoration-color: #008000\">'test-root-dir/file2.txt'</span>, <span style=\"color: #008000; text-decoration-color: #008000\">'test-root-dir/subdir/file3.txt'</span><span style=\"font-weight: bold\">]</span>\n",
       "</pre>\n"
      ],
      "text/plain": [
       "\u001b[1m[\u001b[0m\u001b[32m'test-root-dir/file1.txt'\u001b[0m, \u001b[32m'test-root-dir/file2.txt'\u001b[0m, \u001b[32m'test-root-dir/subdir/file3.txt'\u001b[0m\u001b[1m]\u001b[0m\n"
      ]
     },
     "metadata": {},
     "output_type": "display_data"
    }
   ],
   "source": [
    "from pathlib import Path\n",
    "from typing import Generator\n",
    "\n",
    "\n",
    "# create a test dir locally with sample files\n",
    "test_dir = Path(\"test_dir\")\n",
    "test_dir.mkdir(parents=True, exist_ok=True)\n",
    "(test_dir / \"file1.txt\").write_text(\"This is file 1.\")\n",
    "(test_dir / \"file2.txt\").write_text(\"This is file 2.\")\n",
    "(test_dir / \"subdir\").mkdir(parents=True, exist_ok=True)\n",
    "(test_dir / \"subdir\" / \"file3.txt\").write_text(\"This is file 3.\")\n",
    "\n",
    "# clean up the bucket\n",
    "delete_bucket(BUCKET_NAME)\n",
    "create_bucket(bucket_name=BUCKET_NAME)\n",
    "\n",
    "recursively_upload_dir_to_bucket(\n",
    "    bucket_name=BUCKET_NAME,\n",
    "    local_dir_fpath=test_dir,\n",
    "    target_root_prefix_in_bucket=\"test-root-dir/\",\n",
    ")\n",
    "\n",
    "# List all objects in the bucket at the test target root\n",
    "objects = list_all_objects_in_bucket_by_prefix(\n",
    "    bucket_name=BUCKET_NAME,\n",
    "    prefix=\"test-root-dir/\",\n",
    ")\n",
    "print(objects)"
   ]
  },
  {
   "cell_type": "markdown",
   "metadata": {},
   "source": [
    "## (Optional) Bonus Exercise #2 - Rename a \"folder\" in an S3 bucket\n",
    "\n",
    "S3 is a key-value store for blobs of bytes. There is no way to \"rename\" a \"folder\" in S3\n",
    "without changing the key names of each object in the \"folder\".\n",
    "\n",
    "To really feel the weight and implications of this fact, go through this exercise 🤣\n",
    "\n",
    "Ultimately, you have to copy each object one at a time, and delete the old object. For large buckets, e.g.\n",
    "data lakes with millions of files, this is a slow process."
   ]
  },
  {
   "cell_type": "code",
   "execution_count": 124,
   "metadata": {},
   "outputs": [],
   "source": [
    "def rename_folder_in_bucket(\n",
    "    bucket_name: str,\n",
    "    old_folder_prefix: str,\n",
    "    new_folder_prefix: str,\n",
    "):\n",
    "    \"\"\"\n",
    "    Rename a \"folder\" in an S3 bucket.\n",
    "\n",
    "    Example:\n",
    "\n",
    "    Given the following structure in S3:\n",
    "\n",
    "    s3://bucket-name/<old_folder_prefix>/\n",
    "    ├── file1.txt\n",
    "    ├── file2.txt\n",
    "    └── subdir/\n",
    "        └── file3.txt\n",
    "\n",
    "    After renaming\n",
    "\n",
    "    s3://bucket-name/<new_folder_prefix>/\n",
    "    ├── file1.txt\n",
    "    ├── file2.txt\n",
    "    └── subdir/\n",
    "        └── file3.txt\n",
    "\n",
    "    :param bucket_name: Name of the S3 bucket\n",
    "    :param source_folder: Source \"folder\" path in the bucket\n",
    "    :param destination_folder: Destination \"folder\" path in the bucket\n",
    "    \"\"\"\n",
    "    # Copy the object to new location and delete the old location\n",
    "    old_files = list_all_objects_in_bucket_by_prefix(bucket_name=bucket_name, prefix=old_folder_prefix)\n",
    "    for file in old_files:\n",
    "        try:\n",
    "            target_key = file.replace(old_folder_prefix, new_folder_prefix)\n",
    "            move_object_in_bucket(bucket_name=bucket_name, source_key=file, destination_key=target_key)\n",
    "        except ClientError as err:\n",
    "            print(f\"Error renaming {file} to {target_key}: {err}\")\n",
    "            continue\n",
    "\n",
    "\n",
    "def move_object_in_bucket(bucket_name: str, source_key: str, destination_key: str):\n",
    "    \"\"\"\n",
    "    Move an object within an S3 bucket by copying to the new key and deleting the old key.\n",
    "\n",
    "    :param bucket_name: Name of the S3 bucket\n",
    "    :param source_key: Source key of the object to move\n",
    "    :param destination_key: Destination key of the object\n",
    "    \"\"\"\n",
    "    try:\n",
    "        S3_CLIENT.copy(\n",
    "            CopySource={\"Bucket\": bucket_name, \"Key\": source_key},\n",
    "            Bucket=bucket_name,\n",
    "            Key=destination_key,\n",
    "        )\n",
    "        print(f\"Copied {source_key} to {destination_key}\")\n",
    "\n",
    "        S3_CLIENT.delete_object(Bucket=bucket_name, Key=source_key)\n",
    "        print(f\"Deleted {source_key}\")\n",
    "    except ClientError as err:\n",
    "        print(f\"Error moving {source_key} to {destination_key}: {err}\")\n",
    "        raise"
   ]
  },
  {
   "cell_type": "code",
   "execution_count": 125,
   "metadata": {},
   "outputs": [
    {
     "data": {
      "text/html": [
       "<pre style=\"white-space:pre;overflow-x:auto;line-height:normal;font-family:Menlo,'DejaVu Sans Mono',consolas,'Courier New',monospace\">Writing object to path <span style=\"color: #008000; text-decoration-color: #008000\">'s3://cloud-course-bucket-1a4e/nested/source-folder/file1.txt'</span>\n",
       "</pre>\n"
      ],
      "text/plain": [
       "Writing object to path \u001b[32m's3://cloud-course-bucket-1a4e/nested/source-folder/file1.txt'\u001b[0m\n"
      ]
     },
     "metadata": {},
     "output_type": "display_data"
    },
    {
     "data": {
      "text/html": [
       "<pre style=\"white-space:pre;overflow-x:auto;line-height:normal;font-family:Menlo,'DejaVu Sans Mono',consolas,'Courier New',monospace\">Writing object to path <span style=\"color: #008000; text-decoration-color: #008000\">'s3://cloud-course-bucket-1a4e/nested/source-folder/file2.txt'</span>\n",
       "</pre>\n"
      ],
      "text/plain": [
       "Writing object to path \u001b[32m's3://cloud-course-bucket-1a4e/nested/source-folder/file2.txt'\u001b[0m\n"
      ]
     },
     "metadata": {},
     "output_type": "display_data"
    },
    {
     "data": {
      "text/html": [
       "<pre style=\"white-space:pre;overflow-x:auto;line-height:normal;font-family:Menlo,'DejaVu Sans Mono',consolas,'Courier New',monospace\">Writing object to path <span style=\"color: #008000; text-decoration-color: #008000\">'s3://cloud-course-bucket-1a4e/nested/source-folder/subdir/file3.txt'</span>\n",
       "</pre>\n"
      ],
      "text/plain": [
       "Writing object to path \u001b[32m's3://cloud-course-bucket-1a4e/nested/source-folder/subdir/file3.txt'\u001b[0m\n"
      ]
     },
     "metadata": {},
     "output_type": "display_data"
    },
    {
     "data": {
      "text/html": [
       "<pre style=\"white-space:pre;overflow-x:auto;line-height:normal;font-family:Menlo,'DejaVu Sans Mono',consolas,'Courier New',monospace\">Directory <span style=\"color: #008000; text-decoration-color: #008000\">'test_dir'</span> uploaded successfully to S3 bucket <span style=\"color: #008000; text-decoration-color: #008000\">'cloud-course-bucket-1a4e'</span> with prefix \n",
       "<span style=\"color: #008000; text-decoration-color: #008000\">'nested/source-folder/'</span>.\n",
       "</pre>\n"
      ],
      "text/plain": [
       "Directory \u001b[32m'test_dir'\u001b[0m uploaded successfully to S3 bucket \u001b[32m'cloud-course-bucket-1a4e'\u001b[0m with prefix \n",
       "\u001b[32m'nested/source-folder/'\u001b[0m.\n"
      ]
     },
     "metadata": {},
     "output_type": "display_data"
    },
    {
     "data": {
      "text/html": [
       "<pre style=\"white-space:pre;overflow-x:auto;line-height:normal;font-family:Menlo,'DejaVu Sans Mono',consolas,'Courier New',monospace\">Copied nested/source-folder/file1.txt to nested/destination-folder/file1.txt\n",
       "</pre>\n"
      ],
      "text/plain": [
       "Copied nested/source-folder/file1.txt to nested/destination-folder/file1.txt\n"
      ]
     },
     "metadata": {},
     "output_type": "display_data"
    },
    {
     "data": {
      "text/html": [
       "<pre style=\"white-space:pre;overflow-x:auto;line-height:normal;font-family:Menlo,'DejaVu Sans Mono',consolas,'Courier New',monospace\">Deleted nested/source-folder/file1.txt\n",
       "</pre>\n"
      ],
      "text/plain": [
       "Deleted nested/source-folder/file1.txt\n"
      ]
     },
     "metadata": {},
     "output_type": "display_data"
    },
    {
     "data": {
      "text/html": [
       "<pre style=\"white-space:pre;overflow-x:auto;line-height:normal;font-family:Menlo,'DejaVu Sans Mono',consolas,'Courier New',monospace\">Copied nested/source-folder/file2.txt to nested/destination-folder/file2.txt\n",
       "</pre>\n"
      ],
      "text/plain": [
       "Copied nested/source-folder/file2.txt to nested/destination-folder/file2.txt\n"
      ]
     },
     "metadata": {},
     "output_type": "display_data"
    },
    {
     "data": {
      "text/html": [
       "<pre style=\"white-space:pre;overflow-x:auto;line-height:normal;font-family:Menlo,'DejaVu Sans Mono',consolas,'Courier New',monospace\">Deleted nested/source-folder/file2.txt\n",
       "</pre>\n"
      ],
      "text/plain": [
       "Deleted nested/source-folder/file2.txt\n"
      ]
     },
     "metadata": {},
     "output_type": "display_data"
    },
    {
     "data": {
      "text/html": [
       "<pre style=\"white-space:pre;overflow-x:auto;line-height:normal;font-family:Menlo,'DejaVu Sans Mono',consolas,'Courier New',monospace\">Copied nested/source-folder/subdir/file3.txt to nested/destination-folder/subdir/file3.txt\n",
       "</pre>\n"
      ],
      "text/plain": [
       "Copied nested/source-folder/subdir/file3.txt to nested/destination-folder/subdir/file3.txt\n"
      ]
     },
     "metadata": {},
     "output_type": "display_data"
    },
    {
     "data": {
      "text/html": [
       "<pre style=\"white-space:pre;overflow-x:auto;line-height:normal;font-family:Menlo,'DejaVu Sans Mono',consolas,'Courier New',monospace\">Deleted nested/source-folder/subdir/file3.txt\n",
       "</pre>\n"
      ],
      "text/plain": [
       "Deleted nested/source-folder/subdir/file3.txt\n"
      ]
     },
     "metadata": {},
     "output_type": "display_data"
    },
    {
     "data": {
      "text/html": [
       "<pre style=\"white-space:pre;overflow-x:auto;line-height:normal;font-family:Menlo,'DejaVu Sans Mono',consolas,'Courier New',monospace\"><span style=\"font-weight: bold\">[</span>\n",
       "    <span style=\"color: #008000; text-decoration-color: #008000\">'nested/destination-folder/file1.txt'</span>,\n",
       "    <span style=\"color: #008000; text-decoration-color: #008000\">'nested/destination-folder/file2.txt'</span>,\n",
       "    <span style=\"color: #008000; text-decoration-color: #008000\">'nested/destination-folder/subdir/file3.txt'</span>\n",
       "<span style=\"font-weight: bold\">]</span>\n",
       "</pre>\n"
      ],
      "text/plain": [
       "\u001b[1m[\u001b[0m\n",
       "    \u001b[32m'nested/destination-folder/file1.txt'\u001b[0m,\n",
       "    \u001b[32m'nested/destination-folder/file2.txt'\u001b[0m,\n",
       "    \u001b[32m'nested/destination-folder/subdir/file3.txt'\u001b[0m\n",
       "\u001b[1m]\u001b[0m\n"
      ]
     },
     "metadata": {},
     "output_type": "display_data"
    }
   ],
   "source": [
    "\"\"\"Test the rename_folder_in_bucket function.\"\"\"\n",
    "\n",
    "# def upload_file_to_bucket(\n",
    "#     local_fpath: str | Path,\n",
    "#     bucket_name: str,\n",
    "#     target_key_in_bucket: str,\n",
    "# ):\n",
    "#     \"\"\"\n",
    "#     Upload a file to an S3 bucket.\n",
    "\n",
    "#     :param local_fpath: Local file path to upload\n",
    "#     :param bucket_name: Name of the bucket to upload the file to\n",
    "#     :param target_key_in_bucket: Key to upload the file to in the bucket\n",
    "#     \"\"\"\n",
    "#     local_fpath = Path(local_fpath)\n",
    "#     with open(local_fpath, \"rb\") as file:\n",
    "#         S3_CLIENT.put_object(Bucket=bucket_name, Key=target_key_in_bucket, Body=file)\n",
    "\n",
    "\n",
    "# # Create test objects in the source folder\n",
    "test_source_folder = \"nested/source-folder/\"\n",
    "test_dest_folder = \"nested/destination-folder/\"\n",
    "\n",
    "# create_bucket(bucket_name=BUCKET_NAME)\n",
    "\n",
    "# # Upload test files to source folder\n",
    "# upload_file_to_bucket(\n",
    "#     local_fpath=\"test_dir/file1.txt\", bucket_name=BUCKET_NAME, target_key_in_bucket=test_source_folder + \"file1.txt\"\n",
    "# )\n",
    "# upload_file_to_bucket(\n",
    "#     local_fpath=\"test_dir/file2.txt\", bucket_name=BUCKET_NAME, target_key_in_bucket=test_source_folder + \"file2.txt\"\n",
    "# )\n",
    "# upload_file_to_bucket(\n",
    "#     local_fpath=\"test_dir/subdir/file3.txt\",\n",
    "#     bucket_name=BUCKET_NAME,\n",
    "#     target_key_in_bucket=test_source_folder + \"subdir/file3.txt\",\n",
    "# )\n",
    "\n",
    "recursively_upload_dir_to_bucket(\n",
    "    bucket_name=BUCKET_NAME,\n",
    "    local_dir_fpath=test_dir,\n",
    "    target_root_prefix_in_bucket=test_source_folder,\n",
    ")\n",
    "\n",
    "# Rename the source folder to the destination folder\n",
    "rename_folder_in_bucket(\n",
    "    bucket_name=BUCKET_NAME,\n",
    "    old_folder_prefix=test_source_folder,\n",
    "    new_folder_prefix=test_dest_folder,\n",
    ")\n",
    "\n",
    "# List all objects in the destination folder\n",
    "objects = list_all_objects_in_bucket_by_prefix(bucket_name=BUCKET_NAME, prefix=test_dest_folder)\n",
    "print(objects)"
   ]
  },
  {
   "cell_type": "code",
   "execution_count": 126,
   "metadata": {},
   "outputs": [
    {
     "data": {
      "text/html": [
       "<pre style=\"white-space:pre;overflow-x:auto;line-height:normal;font-family:Menlo,'DejaVu Sans Mono',consolas,'Courier New',monospace\">Deleted objects in bucket <span style=\"color: #008000; text-decoration-color: #008000\">'cloud-course-bucket-1a4e'</span>. Proceeding to delete the bucket.\n",
       "</pre>\n"
      ],
      "text/plain": [
       "Deleted objects in bucket \u001b[32m'cloud-course-bucket-1a4e'\u001b[0m. Proceeding to delete the bucket.\n"
      ]
     },
     "metadata": {},
     "output_type": "display_data"
    },
    {
     "data": {
      "text/html": [
       "<pre style=\"white-space:pre;overflow-x:auto;line-height:normal;font-family:Menlo,'DejaVu Sans Mono',consolas,'Courier New',monospace\">Bucket <span style=\"color: #008000; text-decoration-color: #008000\">'cloud-course-bucket-1a4e'</span> deleted successfully!\n",
       "</pre>\n"
      ],
      "text/plain": [
       "Bucket \u001b[32m'cloud-course-bucket-1a4e'\u001b[0m deleted successfully!\n"
      ]
     },
     "metadata": {},
     "output_type": "display_data"
    },
    {
     "data": {
      "text/plain": [
       "{'ResponseMetadata': {'RequestId': 'NJK18W8VD7329525',\n",
       "  'HostId': 'b3afPP2Q3Galbr6GIm1EwZl5lY72xLDJGxnNaIXWqrOtnhdGzidsPGIoOBqEjmG4032NwGIcpoY=',\n",
       "  'HTTPStatusCode': 204,\n",
       "  'HTTPHeaders': {'x-amz-id-2': 'b3afPP2Q3Galbr6GIm1EwZl5lY72xLDJGxnNaIXWqrOtnhdGzidsPGIoOBqEjmG4032NwGIcpoY=',\n",
       "   'x-amz-request-id': 'NJK18W8VD7329525',\n",
       "   'date': 'Fri, 07 Jun 2024 12:50:38 GMT',\n",
       "   'server': 'AmazonS3'},\n",
       "  'RetryAttempts': 0}}"
      ]
     },
     "execution_count": 126,
     "metadata": {},
     "output_type": "execute_result"
    }
   ],
   "source": [
    "delete_bucket(BUCKET_NAME)"
   ]
  },
  {
   "cell_type": "code",
   "execution_count": 127,
   "metadata": {},
   "outputs": [
    {
     "data": {
      "text/html": [
       "<pre style=\"white-space:pre;overflow-x:auto;line-height:normal;font-family:Menlo,'DejaVu Sans Mono',consolas,'Courier New',monospace\">Deleted objects in bucket <span style=\"color: #008000; text-decoration-color: #008000\">'python-cloud-eng-course-bucket-avr'</span>. Proceeding to delete the bucket.\n",
       "</pre>\n"
      ],
      "text/plain": [
       "Deleted objects in bucket \u001b[32m'python-cloud-eng-course-bucket-avr'\u001b[0m. Proceeding to delete the bucket.\n"
      ]
     },
     "metadata": {},
     "output_type": "display_data"
    },
    {
     "data": {
      "text/html": [
       "<pre style=\"white-space:pre;overflow-x:auto;line-height:normal;font-family:Menlo,'DejaVu Sans Mono',consolas,'Courier New',monospace\">Bucket <span style=\"color: #008000; text-decoration-color: #008000\">'python-cloud-eng-course-bucket-avr'</span> deleted successfully!\n",
       "</pre>\n"
      ],
      "text/plain": [
       "Bucket \u001b[32m'python-cloud-eng-course-bucket-avr'\u001b[0m deleted successfully!\n"
      ]
     },
     "metadata": {},
     "output_type": "display_data"
    },
    {
     "data": {
      "text/plain": [
       "{'ResponseMetadata': {'RequestId': '3E1KXZ266S3W8X6F',\n",
       "  'HostId': 'CGj6LbGfR14L4b9uahCIE/9SiXZnokfTqaj7vcS8zA/PEsm9d2iv3+PdaBjRxzu+DT8NiH/O39o=',\n",
       "  'HTTPStatusCode': 204,\n",
       "  'HTTPHeaders': {'x-amz-id-2': 'CGj6LbGfR14L4b9uahCIE/9SiXZnokfTqaj7vcS8zA/PEsm9d2iv3+PdaBjRxzu+DT8NiH/O39o=',\n",
       "   'x-amz-request-id': '3E1KXZ266S3W8X6F',\n",
       "   'date': 'Fri, 07 Jun 2024 12:50:56 GMT',\n",
       "   'server': 'AmazonS3'},\n",
       "  'RetryAttempts': 0}}"
      ]
     },
     "execution_count": 127,
     "metadata": {},
     "output_type": "execute_result"
    }
   ],
   "source": [
    "# delete_bucket(\"python-cloud-eng-course-bucket-avr\")"
   ]
  }
 ],
 "metadata": {
  "kernelspec": {
   "display_name": "Python 3",
   "language": "python",
   "name": "python3"
  },
  "language_info": {
   "codemirror_mode": {
    "name": "ipython",
    "version": 3
   },
   "file_extension": ".py",
   "mimetype": "text/x-python",
   "name": "python",
   "nbconvert_exporter": "python",
   "pygments_lexer": "ipython3",
   "version": "3.11.9"
  }
 },
 "nbformat": 4,
 "nbformat_minor": 4
}
